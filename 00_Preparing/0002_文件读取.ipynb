{
 "cells": [
  {
   "cell_type": "markdown",
   "metadata": {},
   "source": [
    "## **演练0002：文件读取**"
   ]
  },
  {
   "cell_type": "markdown",
   "metadata": {},
   "source": [
    "### **案例1：使用csv.reader读取csv文件**"
   ]
  },
  {
   "cell_type": "code",
   "execution_count": 1,
   "metadata": {},
   "outputs": [
    {
     "name": "stdout",
     "output_type": "stream",
     "text": [
      "列标题：\n",
      "Area\n",
      "Rooms\n",
      "Price\n",
      "数据值(字符串形式)：\n",
      "<class 'list'>\n",
      "[['2104', '3', '399900'], ['1600', '3', '329900'], ['2400', '3', '369000'], ['1416', '2', '232000']]\n",
      "数据值(转换成数值形式)：\n",
      "[[2.104e+03 3.000e+00 3.999e+05]\n",
      " [1.600e+03 3.000e+00 3.299e+05]\n",
      " [2.400e+03 3.000e+00 3.690e+05]\n",
      " [1.416e+03 2.000e+00 2.320e+05]]\n"
     ]
    }
   ],
   "source": [
    "import numpy as np\n",
    "import csv\n",
    "\n",
    "csv_file_path = 'data/house_price.csv'\n",
    "\n",
    "file = open(csv_file_path)\n",
    "reader = csv.reader(file)\n",
    "text = list(reader)\n",
    "\n",
    "print('列标题：')\n",
    "titles = text[0]\n",
    "for title in titles:\n",
    "    print(title)\n",
    "\n",
    "print('数据值(字符串形式)：')\n",
    "data = text[1:]\n",
    "print(type(data))    # data是一个list而不是array\n",
    "print(data)\n",
    "\n",
    "print('数据值(转换成数值形式)：')\n",
    "rows = len(data)    # 数据的行数\n",
    "cols = len(data[0]) # 数据的列数\n",
    "values = np.empty((rows, cols))    # 定义一个array存放data中的数值数据\n",
    "for i in range(rows):\n",
    "    for j in range(cols):\n",
    "        values[i, j] = (float)(data[i][j])\n",
    "print(values)\n",
    "file.close()"
   ]
  },
  {
   "cell_type": "markdown",
   "metadata": {},
   "source": [
    "### **案例2：使用np.loadtxt读取csv文件**"
   ]
  },
  {
   "cell_type": "code",
   "execution_count": 2,
   "metadata": {},
   "outputs": [
    {
     "name": "stdout",
     "output_type": "stream",
     "text": [
      "(4, 3)\n",
      "[[2.104e+03 3.000e+00 3.999e+05]\n",
      " [1.600e+03 3.000e+00 3.299e+05]\n",
      " [2.400e+03 3.000e+00 3.690e+05]\n",
      " [1.416e+03 2.000e+00 2.320e+05]]\n"
     ]
    }
   ],
   "source": [
    "import numpy as np\n",
    "\n",
    "csv_file_path = 'data/house_price.csv'\n",
    "data = np.loadtxt(open(csv_file_path, 'r'), delimiter=\",\",skiprows=1)\n",
    "print(data.shape)\n",
    "print(data)"
   ]
  },
  {
   "cell_type": "markdown",
   "metadata": {},
   "source": [
    "### **案例3：以npy格式存储和读取数据**"
   ]
  },
  {
   "cell_type": "code",
   "execution_count": 3,
   "metadata": {},
   "outputs": [
    {
     "name": "stdout",
     "output_type": "stream",
     "text": [
      "[[2.104e+03 3.000e+00 3.999e+05]\n",
      " [1.600e+03 3.000e+00 3.299e+05]\n",
      " [2.400e+03 3.000e+00 3.690e+05]\n",
      " [1.416e+03 2.000e+00 2.320e+05]]\n"
     ]
    }
   ],
   "source": [
    "import numpy as np\n",
    "import csv\n",
    "\n",
    "csv_file_path = 'data/house_price.csv'\n",
    "npy_file_path = 'data/house_price.npy'\n",
    "\n",
    "origin_data = np.loadtxt(open(csv_file_path, 'r'), delimiter=\",\",skiprows=1)\n",
    "np.save(npy_file_path, origin_data)\n",
    "loaded_data = np.load(npy_file_path)\n",
    "print(loaded_data)"
   ]
  },
  {
   "cell_type": "markdown",
   "metadata": {},
   "source": [
    "### **案例4：读取txt格式的文件**"
   ]
  },
  {
   "cell_type": "code",
   "execution_count": 4,
   "metadata": {},
   "outputs": [
    {
     "name": "stdout",
     "output_type": "stream",
     "text": [
      "(4, 3)\n",
      "[[2.104e+03 3.000e+00 3.999e+05]\n",
      " [1.600e+03 3.000e+00 3.299e+05]\n",
      " [2.400e+03 3.000e+00 3.690e+05]\n",
      " [1.416e+03 2.000e+00 2.320e+05]]\n"
     ]
    }
   ],
   "source": [
    "import numpy as np\n",
    "\n",
    "txt_file_path = 'data/house_price.txt'\n",
    "data = np.loadtxt(open(txt_file_path, 'r'), delimiter=\" \",skiprows=1)\n",
    "print(data.shape)\n",
    "print(data)"
   ]
  }
 ],
 "metadata": {
  "kernelspec": {
   "display_name": "Python 3",
   "language": "python",
   "name": "python3"
  },
  "language_info": {
   "codemirror_mode": {
    "name": "ipython",
    "version": 3
   },
   "file_extension": ".py",
   "mimetype": "text/x-python",
   "name": "python",
   "nbconvert_exporter": "python",
   "pygments_lexer": "ipython3",
   "version": "3.6.8"
  }
 },
 "nbformat": 4,
 "nbformat_minor": 2
}
