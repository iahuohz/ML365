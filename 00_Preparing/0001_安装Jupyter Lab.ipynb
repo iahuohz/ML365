{
 "cells": [
  {
   "cell_type": "markdown",
   "metadata": {},
   "source": [
    "## **演示0001：安装Jupyter Lab**"
   ]
  },
  {
   "cell_type": "markdown",
   "metadata": {},
   "source": [
    "### **Windows下的安装**\n",
    "1. 基本系统  \n",
    "  请使用Windows 7或Windows 10的64位版本系统\n",
    "2. 安装Python 3.x\n",
    "  * 从 https://www.python.org/downloads/windows/ 下载Windows x86-64 executable installer。请确保下载的Python版本是3.5或更高版本。\n",
    "  * 运行安装程序，接受默认安装Python 3.x\n",
    "3. 配置pip源\n",
    "  * 在Windows的当前用户目录(一般是C:\\Users\\用户名)下，创建一个名为pip的文件夹\n",
    "  * 在pip文件夹下创建一个名为pip.ini的文件\n",
    "  * pip.ini文件内容如下：  \n",
    "    <code>[global]  \n",
    "    trusted-host=mirrors.aliyun.com  \n",
    "    index-url=http://mirrors.aliyun.com/pypi/simple/</code>  \n",
    "  * 今后再使用pip命令安装Python包时，将会从阿里云下载，速度会增快\n",
    "4. 安装必要的Python包\n",
    "  * 以管理员权限打开一个Windows命令行(或者PowerShell)终端\n",
    "  * 依次运行下列命令以安装必要的Python包\n",
    "    * pip install numpy\n",
    "    * pip install scipy\n",
    "    * pip install pandas\n",
    "    * pip install matplotlib\n",
    "    * pip install scikit-learn\n",
    "5. 安装Jupyter Lab\n",
    "  * 运行下列命令：pip install jupyterlab"
   ]
  },
  {
   "cell_type": "markdown",
   "metadata": {},
   "source": [
    "### **Ubuntu下的安装**\n",
    "1. 基本系统  \n",
    "  请使用Ubuntu 16.01或更高的64位桌面版操作系统\n",
    "2. 安装Python 3.x\n",
    "  * 打开一个终端，运行下列命令：\n",
    "    * sudo apt-get install python3\n",
    "    * sudo apt-get install python3-pip\n",
    "3. 配置pip源\n",
    "  * 在Linux当前用户目录(一般是/home/用户名)下，创建一个名为【.pip】的文件夹\n",
    "  * 在.pip文件夹下创建一个名为pip.conf的文件\n",
    "  * pip.conf文件内容如下：  \n",
    "    <code>[global]  \n",
    "    trusted-host=mirrors.aliyun.com  \n",
    "    index-url=http://mirrors.aliyun.com/pypi/simple/</code>  \n",
    "  * 今后再使用pip3命令安装Python包时，将会从阿里云下载，速度会增快\n",
    "4. 安装必要的Python包\n",
    "  * 在终端中运行下列命令以安装必要的Python包\n",
    "    * sudo pip3 install numpy\n",
    "    * sudo pip3 install scipy\n",
    "    * sudo pip3 install pandas\n",
    "    * sudo pip3 install matplotlib\n",
    "    * sudo pip3 install scikit-learn\n",
    "5. 安装Jupyter Lab\n",
    "  * 运行下列命令：sudo pip install jupyterlab"
   ]
  },
  {
   "cell_type": "markdown",
   "metadata": {},
   "source": [
    "### **启动和关闭Jupyter Lab网站服务**\n",
    "* Windows下启动\n",
    "  * 在Windows资源管理器中浏览到希望作为文件存储的目录，选择空白处，在按下Shift键的同时点击鼠标右键，然后选择【点击此处打开PowerShell窗口】  \n",
    "    ![](../images/000101.png)  \n",
    "  * 在命令行中运行：jupyter lab\n",
    "  * 等待网站启动后，将自动打开浏览器，并且展现Japyter Lab的界面\n",
    "  * 一般情况下首页访问路径为：http://localhost:8888/lab\n",
    "* Ubuntu下启动\n",
    "  * 打开命令行，浏览到希望作为文件存储的目录，运行：jupyter lab\n",
    "  * 等待网站启动后，将自动打开浏览器，并且展现Japyter Lab的界面\n",
    "  * 一般情况下首页访问路径为：http://localhost:8888/lab\n",
    "* 网站首页如下图所示：  \n",
    "  ![](../images/000102.png)  \n",
    "* 关闭网站服务\n",
    "  * 在命令行中，连续按下Ctrl+C多次，即可关闭网站服务"
   ]
  }
 ],
 "metadata": {
  "kernelspec": {
   "display_name": "Python 3",
   "language": "python",
   "name": "python3"
  },
  "language_info": {
   "codemirror_mode": {
    "name": "ipython",
    "version": 3
   },
   "file_extension": ".py",
   "mimetype": "text/x-python",
   "name": "python",
   "nbconvert_exporter": "python",
   "pygments_lexer": "ipython3",
   "version": "3.6.8"
  }
 },
 "nbformat": 4,
 "nbformat_minor": 2
}
