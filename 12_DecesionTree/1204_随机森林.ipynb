{
 "cells": [
  {
   "cell_type": "markdown",
   "metadata": {},
   "source": [
    "## **演示1204：随机森林**"
   ]
  },
  {
   "cell_type": "markdown",
   "metadata": {},
   "source": [
    "### **基本原理**\n",
    "* 单一决策树很容易产生过拟合；如果采用多棵决策树，共同投票来做决定，往往会比采用单一决策树具有更好的效果。\n",
    "* Bagging策略：从样本集（假设样本集$N$个数据点）中重采样选出$n$个样本（有放回的采样，样本数据点个数仍然不变为$N$），对这$n$个样本建立分类器（ID3\\C4.5\\CART等方法），重复以上两步$m$次，获得$m$个分类器，最后根据这$m$个分类器的投票结果，决定数据属于哪一类。\n",
    "* 使用步骤：\n",
    " * 样本的随机：从样本集中用Bagging策略随机选取$n$个样本\n",
    " * 特征的随机：从所有属性中随机选取$K$个属性，选择最佳分割属性作为节点建立CART决策树（也可以是其他类型的分类器，比如SVM、Logistics）\n",
    " * 重复以上两步$ m $次，即建立了$ m $ 棵CART决策树\n",
    " * 这$m$个CART形成随机森林，通过投票表决结果，决定数据属于哪一类（投票机制有一票否决制、少数服从多数、加权多数）"
   ]
  },
  {
   "cell_type": "markdown",
   "metadata": {},
   "source": [
    "### **案例1：使用自定义随机森林分类器**\n",
    "* 分类器代码参考【random_forest.py】\n",
    "* 生成多棵决策树\n",
    " * 每棵决策树使用不完全相同的样本数据。每次生成决策树之前，先将原始样本数据的顺序打散，然后取前若干条数据作为样本\n",
    " * 因为特征数量不多，因此本例没有对特征进行随机选取，而是直接使用了所有特征\n",
    "* 投票\n",
    " * random_forest.forest_classify方法用于在多个决策树之间做出判别并根据投票结果给出最终判别"
   ]
  },
  {
   "cell_type": "code",
   "execution_count": 1,
   "metadata": {},
   "outputs": [
    {
     "name": "stdout",
     "output_type": "stream",
     "text": [
      "The history saving thread hit an unexpected error (DatabaseError('database disk image is malformed',)).History will not be written to the database.\n",
      "预测正确率： 0.9549763033175356\n"
     ]
    }
   ],
   "source": [
    "''' 基于ID3决策树的随机森林实现 '''\n",
    "import numpy as np    \n",
    "import collections as col\n",
    "import random_forest\n",
    "\n",
    "data   = []    \n",
    "labels = []   \n",
    "inputs = [] \n",
    "with open(\"car.csv\") as ifile:    \n",
    "        first_line = True\n",
    "        for line in ifile:\n",
    "            if first_line:              # 跳过第一行(标题行)\n",
    "                first_line = False\n",
    "                continue\n",
    "            rowDict = {}\n",
    "            tokens = line.strip().split(',')  \n",
    "            rowDict['buying']=tokens[0]\n",
    "            rowDict['maint']=tokens[1]  \n",
    "            rowDict['doors']=tokens[2]  \n",
    "            rowDict['persons']=tokens[3]  \n",
    "            rowDict['lug_boot']=tokens[4]  \n",
    "            rowDict['safety']=tokens[5]  \n",
    "            inputs.append((rowDict, False if tokens[-1]=='unacc' else True))\n",
    "\n",
    "total_count = len(inputs)\n",
    "train_inputs = []\n",
    "test_inputs = []\n",
    "temp = train_inputs, test_inputs\n",
    "ratio = 0.75\n",
    "for i in range(len(inputs)):\n",
    "    dataSetIndex = 0 if np.random.random() < ratio else 1\n",
    "    temp[dataSetIndex].append(inputs[i])\n",
    "\n",
    "tree_count = 6              # 生成6棵树\n",
    "sample_ratio = 0.75         # 每棵树中样本比例\n",
    "sample_count = int(sample_ratio*len(train_inputs))\n",
    "trees = []\n",
    "for i in np.arange(tree_count):\n",
    "    np.random.shuffle(train_inputs)                 # 打乱样本\n",
    "    sample_inputs = train_inputs[:sample_count]\n",
    "    tree = random_forest.build_tree_id3(sample_inputs)\n",
    "    trees.append(tree)\n",
    "\n",
    "correct_count = 0\n",
    "for row in test_inputs:\n",
    "    predict = random_forest.forest_classify(trees, row[0])\n",
    "    if predict == row[1]:\n",
    "        correct_count += 1\n",
    "print(\"预测正确率：\", correct_count / len(test_inputs))"
   ]
  },
  {
   "cell_type": "markdown",
   "metadata": {},
   "source": [
    "### **案例2：使用sklearn.ensemble.RandomForestClassifier**"
   ]
  },
  {
   "cell_type": "code",
   "execution_count": 2,
   "metadata": {},
   "outputs": [
    {
     "name": "stdout",
     "output_type": "stream",
     "text": [
      "0.9875311720698254\n"
     ]
    },
    {
     "name": "stderr",
     "output_type": "stream",
     "text": [
      "/usr/local/lib/python3.6/dist-packages/sklearn/ensemble/forest.py:246: FutureWarning: The default value of n_estimators will change from 10 in version 0.20 to 100 in 0.22.\n",
      "  \"10 in version 0.20 to 100 in 0.22.\", FutureWarning)\n"
     ]
    }
   ],
   "source": [
    "''' 使用RandomForestClassifier '''\n",
    "import numpy as np    \n",
    "from sklearn.feature_extraction import DictVectorizer \n",
    "from sklearn.ensemble import RandomForestClassifier\n",
    "\n",
    "data   = []    \n",
    "labels = []    \n",
    "with open(\"car.csv\") as ifile:    \n",
    "        for line in ifile:\n",
    "            #data需要是字典形式，因为之后需要使用DictVectorizer()修改字符串数据类型，以便符合DecisionTreeClassifier()  \n",
    "            rowDict = {}\n",
    "            tokens = line.strip().split(',')  \n",
    "            rowDict['buying']=tokens[0]\n",
    "            rowDict['maint']=tokens[1]  \n",
    "            rowDict['doors']=tokens[2]  \n",
    "            rowDict['persons']=tokens[3]  \n",
    "            rowDict['lug_boot']=tokens[4]  \n",
    "            rowDict['safety']=tokens[5]  \n",
    "            data.append(rowDict)  \n",
    "            labels.append(tokens[-1])   \n",
    "x = np.array(data)  \n",
    "labels = np.array(labels)    \n",
    "y = np.zeros(labels.shape)  # 初始label全为0  \n",
    "  \n",
    "y[labels =='vgood']=1       # 当label等于这三种属性的话，设置为1。  \n",
    "y[labels =='good']=1  \n",
    "y[labels =='acc']=1  \n",
    "  \n",
    "vec = DictVectorizer()      # 转换字符串数据类型  \n",
    "dx = vec.fit_transform(x).toarray()  \n",
    "\n",
    "# 拆分成训练数据和测试数据\n",
    "ratio = 0.75\n",
    "xTrain = []\n",
    "yTrain = []\n",
    "xTest = []\n",
    "yTest = []\n",
    "features = xTrain,xTest\n",
    "labels = yTrain, yTest\n",
    "for i in range(len(dx)):\n",
    "    dataSetIndex = 0 if np.random.random() < ratio else 1\n",
    "    features[dataSetIndex].append(dx[i])\n",
    "    labels[dataSetIndex].append(y[i])\n",
    "  \n",
    "clf = RandomForestClassifier()\n",
    "clf.fit(xTrain,yTrain)        \n",
    "\n",
    "# 检查准确率\n",
    "accuracy = clf.score(xTest, yTest)\n",
    "print(accuracy)"
   ]
  }
 ],
 "metadata": {
  "kernelspec": {
   "display_name": "Python 3",
   "language": "python",
   "name": "python3"
  },
  "language_info": {
   "codemirror_mode": {
    "name": "ipython",
    "version": 3
   },
   "file_extension": ".py",
   "mimetype": "text/x-python",
   "name": "python",
   "nbconvert_exporter": "python",
   "pygments_lexer": "ipython3",
   "version": "3.6.8"
  }
 },
 "nbformat": 4,
 "nbformat_minor": 2
}
