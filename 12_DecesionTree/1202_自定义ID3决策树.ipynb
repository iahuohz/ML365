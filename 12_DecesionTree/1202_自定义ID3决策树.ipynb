{
 "cells": [
  {
   "cell_type": "markdown",
   "metadata": {},
   "source": [
    "## **演示1202：自定义ID3决策树**"
   ]
  },
  {
   "cell_type": "markdown",
   "metadata": {},
   "source": [
    "### **案例1：自定义决策树分类器对应聘人员进行分类**  \n",
    "阅读【id3_tree.py】代码文件，查看ID3决策树分类器的定义\n",
    "* 该分类器实现了一个最简单的，支持True/False两中分类结果判别的决策树\n",
    "* build_tree_id3方法：用于构造决策树。决策树的结构形如：  \n",
    "![](../images/120201.png)   \n",
    "每个节点下都增加一个名为None的分支，该分支下只包含叶子节点，叶子节点直接返回其父节点下的所有样本的主要判别结果\n",
    "* classify方法：用于根据已经构造好的决策树对新数据分类\n",
    " * 待预测的数据中，很可能有样本数据中不存在的特征名称或特征值，因此，决策树分类器必须要能够应对这种情况\n",
    " * 本例子中为简单起见，待预测数据中无论是出现了意外的特征名/特征值，还是缺失某些特征名/特征值，都将视为特征值为None，从而将选择决策树当前检索节点的None分支继续搜索"
   ]
  },
  {
   "cell_type": "code",
   "execution_count": 1,
   "metadata": {},
   "outputs": [
    {
     "name": "stdout",
     "output_type": "stream",
     "text": [
      "构建的决策树：\n",
      "('level', {'Senior': ('tweets', {'no': False, 'yes': True, None: False}), 'Mid': True, 'Junior': ('phd', {'no': True, 'yes': False, None: True}), None: True})\n",
      "执行预测：\n",
      "True\n",
      "False\n",
      "True\n",
      "False\n"
     ]
    }
   ],
   "source": [
    "''' 使用自定义构造的ID3决策树来进行判别 '''\n",
    "\n",
    "import id3_tree\n",
    "\n",
    "inputs = [\n",
    "({'level':'Senior', 'lang':'Java', 'tweets':'no', 'phd':'no'}, False),\n",
    "({'level':'Senior', 'lang':'Java', 'tweets':'no', 'phd':'yes'}, False),\n",
    "({'level':'Mid', 'lang':'Python', 'tweets':'no', 'phd':'no'}, True),\n",
    "({'level':'Junior', 'lang':'Python', 'tweets':'no', 'phd':'no'}, True),\n",
    "({'level':'Junior', 'lang':'R', 'tweets':'yes', 'phd':'no'}, True),\n",
    "({'level':'Junior', 'lang':'R', 'tweets':'yes', 'phd':'yes'}, False),\n",
    "({'level':'Mid', 'lang':'R', 'tweets':'yes', 'phd':'yes'}, True),\n",
    "({'level':'Senior', 'lang':'Python', 'tweets':'no', 'phd':'no'}, False),\n",
    "({'level':'Senior', 'lang':'R', 'tweets':'yes', 'phd':'no'}, True),\n",
    "({'level':'Junior', 'lang':'Python', 'tweets':'yes', 'phd':'no'}, True),\n",
    "({'level':'Senior', 'lang':'Python', 'tweets':'yes', 'phd':'yes'}, True),\n",
    "({'level':'Mid', 'lang':'Python', 'tweets':'no', 'phd':'yes'}, True),\n",
    "({'level':'Mid', 'lang':'Java', 'tweets':'yes', 'phd':'no'}, True),\n",
    "({'level':'Junior', 'lang':'Python', 'tweets':'no', 'phd':'yes'}, False)\n",
    "]\n",
    "\n",
    "tree = id3_tree.build_tree_id3(inputs)\n",
    "print(\"构建的决策树：\")\n",
    "print(tree)\n",
    "print(\"执行预测：\")\n",
    "print(id3_tree.classify(tree, { \"level\" : \"Junior\", \"lang\" : \"Java\", \"tweets\" : \"yes\", \"phd\" : \"no\"} )) # True\n",
    "print(id3_tree.classify(tree, { \"level\" : \"Junior\",\"lang\" : \"Java\", \"tweets\" : \"yes\", \"phd\" : \"yes\"} )) # False\n",
    "print(id3_tree.classify(tree, { \"level\" : \"Intern\" } )) # True\n",
    "print(id3_tree.classify(tree, { \"level\" : \"Senior\" } )) # False"
   ]
  },
  {
   "cell_type": "markdown",
   "metadata": {},
   "source": [
    "### **案例2：自定义决策树分类器对汽车进行分类，并计算准确率**\n",
    "* 汽车分类训练数据，请查阅【car.csv】文件"
   ]
  },
  {
   "cell_type": "code",
   "execution_count": 2,
   "metadata": {},
   "outputs": [
    {
     "name": "stdout",
     "output_type": "stream",
     "text": [
      "预测正确率： 0.9462102689486552\n"
     ]
    }
   ],
   "source": [
    "''' 使用自定义ID3决策树判别汽车数据 '''\n",
    "import numpy as np    \n",
    "import collections as col\n",
    "import id3_tree\n",
    "\n",
    "data   = []    \n",
    "labels = []   \n",
    "inputs = [] \n",
    "with open(\"car.csv\") as ifile:    \n",
    "        first_line = True\n",
    "        for line in ifile:\n",
    "            if first_line:              # 跳过第一行(标题行)\n",
    "                first_line = False\n",
    "                continue\n",
    "            rowDict = {}\n",
    "            tokens = line.strip().split(',')  \n",
    "            rowDict['buying']=tokens[0]\n",
    "            rowDict['maint']=tokens[1]  \n",
    "            rowDict['doors']=tokens[2]  \n",
    "            rowDict['persons']=tokens[3]  \n",
    "            rowDict['lug_boot']=tokens[4]  \n",
    "            rowDict['safety']=tokens[5]  \n",
    "            inputs.append((rowDict, False if tokens[-1]=='unacc' else True))    # 最后一列作为分类标签(acc或unacc)\n",
    "\n",
    "total_count = len(inputs)\n",
    "train_inputs = []\n",
    "test_inputs = []\n",
    "temp = train_inputs, test_inputs\n",
    "ratio = 0.75\n",
    "for i in range(len(inputs)):\n",
    "    dataSetIndex = 0 if np.random.random() < ratio else 1\n",
    "    temp[dataSetIndex].append(inputs[i])\n",
    "\n",
    "tree = id3_tree.build_tree_id3(train_inputs)\n",
    "\n",
    "correct_count = 0\n",
    "for row in test_inputs:\n",
    "    predict = id3_tree.classify(tree, row[0])\n",
    "    if predict == row[1]:\n",
    "        correct_count += 1\n",
    "print(\"预测正确率：\", correct_count / len(test_inputs))"
   ]
  }
 ],
 "metadata": {
  "kernelspec": {
   "display_name": "Python 3",
   "language": "python",
   "name": "python3"
  },
  "language_info": {
   "codemirror_mode": {
    "name": "ipython",
    "version": 3
   },
   "file_extension": ".py",
   "mimetype": "text/x-python",
   "name": "python",
   "nbconvert_exporter": "python",
   "pygments_lexer": "ipython3",
   "version": "3.6.8"
  }
 },
 "nbformat": 4,
 "nbformat_minor": 2
}
