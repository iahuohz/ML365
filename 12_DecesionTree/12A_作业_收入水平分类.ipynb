{
 "cells": [
  {
   "cell_type": "markdown",
   "metadata": {},
   "source": [
    "## **作业12A：使用决策树或随机森林对收入水平进行分类**\n",
    "文件【income_classification.csv】中包含了许多收入数据。\n",
    "* 特征列\n",
    "  * age：年龄，整数\n",
    "  * workclass：工作性质，字符串，包含少数几种取值，例如：Private、State-gov等\n",
    "  * education：教育程度，字符串，包含少数几种取值，例如：Bachelors、Masters等\n",
    "  * education_num：受教育年限，整数\n",
    "  * maritial_status：婚姻状况，字符串，包含少数几种取值，例如：Never-married、Divorced等\n",
    "  * occupation：职业，字符串，包含少数几种取值，例如：Sales、Tech-Support等\n",
    "  * relationship：亲戚关系，字符串，包含少数几种取值，例如：Husband、Wife等\n",
    "  * race：种族，字符串，包含少数几种取值，例如：White、Black等\n",
    "  * sex：性别，字符串，包含少数几种取值，例如：Female, Male\n",
    "  * capital_gain：资本收益，浮点数\n",
    "  * capital_loss：资本损失，浮点数\n",
    "  * hours_per_week：每周工作小时数，浮点数\n",
    "  * native_country：原籍，包含少数几种取值，例如：United-States, Mexico等\n",
    "* 分类标签列：income\n",
    "  * $\\gt50K$\n",
    "  * $\\le50K$  \n",
    "  \n",
    "将所有数据分成70%的训练样本和30%的测试样本，选择适当的特征列，使用决策树或随机森林训练一个分类模型，使得针对测试样本的分类准确率在80%以上"
   ]
  },
  {
   "cell_type": "markdown",
   "metadata": {},
   "source": [
    "### **任务1：熟悉数据**"
   ]
  },
  {
   "cell_type": "code",
   "execution_count": 2,
   "metadata": {},
   "outputs": [
    {
     "name": "stdout",
     "output_type": "stream",
     "text": [
      "原始数据集维度： (32561, 15)\n",
      "   age         workclass  fnlwgt  education  education-num  \\\n",
      "0   39         State-gov   77516  Bachelors             13   \n",
      "1   50  Self-emp-not-inc   83311  Bachelors             13   \n",
      "2   38           Private  215646    HS-grad              9   \n",
      "3   53           Private  234721       11th              7   \n",
      "4   28           Private  338409  Bachelors             13   \n",
      "\n",
      "       marital-status         occupation   relationship   race     sex  \\\n",
      "0       Never-married       Adm-clerical  Not-in-family  White    Male   \n",
      "1  Married-civ-spouse    Exec-managerial        Husband  White    Male   \n",
      "2            Divorced  Handlers-cleaners  Not-in-family  White    Male   \n",
      "3  Married-civ-spouse  Handlers-cleaners        Husband  Black    Male   \n",
      "4  Married-civ-spouse     Prof-specialty           Wife  Black  Female   \n",
      "\n",
      "   capital-gain  capital-loss  hours-per-week native-country income  \n",
      "0          2174             0              40  United-States  <=50K  \n",
      "1             0             0              13  United-States  <=50K  \n",
      "2             0             0              40  United-States  <=50K  \n",
      "3             0             0              40  United-States  <=50K  \n",
      "4             0             0              40           Cuba  <=50K  \n"
     ]
    }
   ],
   "source": [
    "import pandas as pd\n",
    "import numpy as np\n",
    "\n",
    "file_name = 'income_classification.csv'\n",
    "origin_data = pd.read_csv(file_name, encoding='utf-8')\n",
    "print(\"原始数据集维度：\", origin_data.shape)\n",
    "print(origin_data.head(5))"
   ]
  },
  {
   "cell_type": "markdown",
   "metadata": {},
   "source": [
    "### **任务2：对数值字段进行离散化处理**\n",
    "下面的代码提供了对数值字段进行区间离散化的一种可行方法："
   ]
  },
  {
   "cell_type": "code",
   "execution_count": 6,
   "metadata": {},
   "outputs": [
    {
     "name": "stdout",
     "output_type": "stream",
     "text": [
      "<class 'numpy.ndarray'>\n",
      "前5行年龄区间编号： [2 4 2 4 1]\n"
     ]
    }
   ],
   "source": [
    "# 定义年龄区间\n",
    "age_bins = [20, 30, 40, 50, 60, 70]    # 区间0：0~20，区间1：20~30，......区间6：70~\n",
    "age_sections = np.digitize(origin_data['age'], bins=age_bins)\n",
    "print(type(age_sections))\n",
    "print(\"前5行年龄区间编号：\", age_sections[:5])"
   ]
  },
  {
   "cell_type": "markdown",
   "metadata": {},
   "source": [
    "### **任务3：对字符串字段进行数字编号处理**\n",
    "下面的代码提供了对字符串字段进行整数编号处理的一种可行方法(每个特定的字符串将用一个整数来代表，整数序列从0开始增长)："
   ]
  },
  {
   "cell_type": "code",
   "execution_count": 7,
   "metadata": {},
   "outputs": [
    {
     "name": "stdout",
     "output_type": "stream",
     "text": [
      "前5行工作性质数字化编号： [7 6 4 4 4]\n"
     ]
    }
   ],
   "source": [
    "from sklearn.preprocessing import LabelEncoder\n",
    "enc = LabelEncoder()\n",
    "workclass_values = enc.fit_transform(origin_data['workclass'])\n",
    "print(\"前5行工作性质数字化编号：\", workclass_values[:5])"
   ]
  },
  {
   "cell_type": "markdown",
   "metadata": {},
   "source": [
    "### **任务4:完成实验**\n",
    "1. 选择合适的若干个特征字段\n",
    "2. 按7:3划分训练集和样本集\n",
    "3. 使用训练集训练一个决策树或随机森林模型\n",
    "4. 使用测试集进行分类预测(分两类，以50K收入为界)，并且计算预测正确率"
   ]
  },
  {
   "cell_type": "code",
   "execution_count": null,
   "metadata": {},
   "outputs": [],
   "source": [
    "### TODO：完成实验任务4\n"
   ]
  }
 ],
 "metadata": {
  "kernelspec": {
   "display_name": "Python 3",
   "language": "python",
   "name": "python3"
  },
  "language_info": {
   "codemirror_mode": {
    "name": "ipython",
    "version": 3
   },
   "file_extension": ".py",
   "mimetype": "text/x-python",
   "name": "python",
   "nbconvert_exporter": "python",
   "pygments_lexer": "ipython3",
   "version": "3.6.8"
  }
 },
 "nbformat": 4,
 "nbformat_minor": 2
}
