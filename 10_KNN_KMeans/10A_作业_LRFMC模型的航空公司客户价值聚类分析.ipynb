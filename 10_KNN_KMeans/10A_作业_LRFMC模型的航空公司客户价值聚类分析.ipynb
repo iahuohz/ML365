{
 "cells": [
  {
   "cell_type": "markdown",
   "metadata": {},
   "source": [
    "## **作业10A：基于LRFMC模型的航空公司客户价值聚类分析**\n",
    "文件【air_data】中存放了数万条航空公司乘客信息(无重复乘客数据)，每条数据包括40多个属性。对应的主要属性含义如下图：\n",
    "![](../images/10A01.png)  \n",
    "基于上述数据，设计一个聚类模型，使之能将这些乘客归到不同的类别中"
   ]
  },
  {
   "cell_type": "markdown",
   "metadata": {},
   "source": [
    "### **任务1：装载并提取关键数据**\n",
    "提取下列6个属性数据，组成精简的特征数组：\n",
    "* FFP_DATE：入会时间\n",
    "* LOAD_TIME：观测窗口的结束时间\n",
    "* FLIGHT_COUNT：飞行次数(在观测窗口时间内)\n",
    "* avg_discount：平均折扣率\n",
    "* SEG_KM_SUM：总飞行公里数(在观测窗口时间内)\n",
    "* LAST_TO_END：最后一次乘机时间至观测窗口结束点的时长"
   ]
  },
  {
   "cell_type": "code",
   "execution_count": 1,
   "metadata": {},
   "outputs": [
    {
     "name": "stdout",
     "output_type": "stream",
     "text": [
      "原始数据维度： (62292, 45)\n",
      "精简数据维度： (62292, 6)\n"
     ]
    }
   ],
   "source": [
    "import numpy as np\n",
    "import pandas as pd\n",
    "\n",
    "file_name = 'air_data.csv'\n",
    "origin_data = pd.read_csv(file_name, encoding='utf-8')\n",
    "print(\"原始数据维度：\", origin_data.shape)\n",
    "\n",
    "# 选择FFP_DATE、LOAD_TIME、FLIGHT_COUNT、avg_discount、SEG_KM_SUM、LAST_TO_END 6个属性\n",
    "columns = ['FFP_DATE','LOAD_TIME','FLIGHT_COUNT','avg_discount','SEG_KM_SUM','LAST_TO_END']\n",
    "refined_data = origin_data[columns]\n",
    "print(\"精简数据维度：\", refined_data.shape)"
   ]
  },
  {
   "cell_type": "markdown",
   "metadata": {},
   "source": [
    "### **任务2：生成LRFMC特征矩阵**\n",
    "* **入会至当前时长 L** = LOAD_TIME - FFP_DATE   (反映可能的活跃时长)   \n",
    "会员入会时间距观测窗口结束的月数 = 观测窗口的结束时间 - 入会时间 [ 单位：月 ]\n",
    "* **最近消费时间间隔 R** = LAST_TO_END  (反映最近一段时间活跃程度)  \n",
    "客户最近一次乘坐公司飞机距离观测窗口结束的月数 = 最后一次乘机时间至观测窗口末端时长 [ 单位：月 ]\n",
    "* **消费频次 F** = FLIGHT_COUNT   (反映乘客的忠诚度)  \n",
    "客户在观测窗口内乘坐公司飞机的次数 = 观测窗口的飞行次数 [ 单位：次 ]\n",
    "* **消费里程总额 M** = SEG_KM_SUM  (反映乘客对乘机的依赖程度)  \n",
    "客户在观测时间内在公司累计的飞行历程 = 观测窗口的总飞行公里数 [ 单位：公里 ]\n",
    "* **舱位等级对应的折扣系数 C** = AVG_DISCOUNT  (一般舱位等级越高，折扣系数越大)  \n",
    "客户在观测时间内乘坐舱位所对应的折扣系数的平均值 = 平均折扣率 [ 单位：无 ]"
   ]
  },
  {
   "cell_type": "code",
   "execution_count": 8,
   "metadata": {},
   "outputs": [
    {
     "name": "stdout",
     "output_type": "stream",
     "text": [
      "LRFMC数据集前5条数据：\n",
      "                 L         R    F       M         C\n",
      "0 90 days 04:48:00  0.033333  210  580717  0.961639\n",
      "1 86 days 13:36:00  0.233333  140  293678  1.252314\n",
      "2 87 days 04:00:00  0.366667  135  283712  1.254676\n",
      "3 68 days 05:36:00  3.233333   23  281336  1.090870\n",
      "4 60 days 12:48:00  0.166667  152  309928  0.970658\n"
     ]
    }
   ],
   "source": [
    "# 将上述6个属性转换成LRFMC指标，每个指标作为1列数据追加到refined_data矩阵中\n",
    "refined_data.loc[:, 'L'] = (pd.to_datetime(refined_data['LOAD_TIME']) - pd.to_datetime(refined_data['FFP_DATE'])) / 30\n",
    "refined_data.loc[:, 'R'] = refined_data['LAST_TO_END'] / 30\n",
    "refined_data.loc[:, 'F'] = refined_data['FLIGHT_COUNT']\n",
    "refined_data.loc[:, 'M'] = refined_data['SEG_KM_SUM']\n",
    "refined_data.loc[:, 'C'] = refined_data['avg_discount']\n",
    "lrfmc_data = refined_data[['L','R','F','M','C']]\n",
    "print(\"LRFMC数据集前5条数据：\")\n",
    "print(lrfmc_data.head(5))"
   ]
  },
  {
   "cell_type": "markdown",
   "metadata": {},
   "source": [
    "### **任务3：数据归一化处理**"
   ]
  },
  {
   "cell_type": "code",
   "execution_count": 9,
   "metadata": {},
   "outputs": [
    {
     "name": "stdout",
     "output_type": "stream",
     "text": [
      "归一化数据集前5条数据：\n",
      "         ZL        ZR         ZF         ZM        ZC\n",
      "0  1.437337 -0.947610  14.054556  26.798659  1.296475\n",
      "1  1.308764 -0.914510   9.087224  13.146340  2.868685\n",
      "2  1.329997 -0.892444   8.732414  12.672331  2.881455\n",
      "3  0.660006 -0.418019   0.784683  12.559322  1.995459\n",
      "4  0.387527 -0.925544   9.938766  13.919232  1.345256\n"
     ]
    }
   ],
   "source": [
    "# 归一化处理\n",
    "normalized_data = (lrfmc_data - lrfmc_data.mean(axis=0)) / lrfmc_data.std(axis=0)\n",
    "normalized_data.columns = 'Z' + normalized_data.columns    # 列标题之前追加字符'Z'，表示是进行了归一化处理的列数据\n",
    "print(\"归一化数据集前5条数据：\")\n",
    "print(normalized_data.head(5))"
   ]
  },
  {
   "cell_type": "markdown",
   "metadata": {},
   "source": [
    "### **任务4：训练聚类模型**\n",
    "按照TODO中的提示完成代码："
   ]
  },
  {
   "cell_type": "code",
   "execution_count": 10,
   "metadata": {},
   "outputs": [
    {
     "data": {
      "text/plain": [
       "KMeans(algorithm='auto', copy_x=True, init='k-means++', max_iter=300,\n",
       "    n_clusters=5, n_init=10, n_jobs=None, precompute_distances='auto',\n",
       "    random_state=None, tol=0.0001, verbose=0)"
      ]
     },
     "execution_count": 10,
     "metadata": {},
     "output_type": "execute_result"
    }
   ],
   "source": [
    "# 执行聚类\n",
    "from sklearn.cluster import KMeans\n",
    "k = 5    # 设置的分类数量\n",
    "model = None\n",
    "\n",
    "### TODO:创建KMeans对象，并赋给变量model。使用model训练聚类模型\n",
    "\n",
    "\n"
   ]
  },
  {
   "cell_type": "markdown",
   "metadata": {},
   "source": [
    "### **任务5：检查聚类结果**\n",
    "聚类中心点反映了该类别下样本的平均值"
   ]
  },
  {
   "cell_type": "code",
   "execution_count": 17,
   "metadata": {},
   "outputs": [
    {
     "name": "stdout",
     "output_type": "stream",
     "text": [
      "每个聚类类别的样本数量：\n",
      " 0    24773\n",
      "2    15788\n",
      "3    12179\n",
      "1     5343\n",
      "4     4209\n",
      "dtype: int64\n",
      "每个聚类类别的中心点：\n",
      "           0         1         2         3         4\n",
      "0 -0.699567 -0.414003 -0.161025 -0.160808 -0.256000\n",
      "1  0.484868 -0.801675  2.487117  2.428455  0.310348\n",
      "2  1.161917 -0.377088 -0.086262 -0.094252 -0.154787\n",
      "3 -0.314036  1.683256 -0.572875 -0.535827 -0.173351\n",
      "4  0.051279 -0.003016 -0.227978 -0.232012  2.187512\n",
      "聚类个数及中心点统计：\n",
      "    聚类个数        ZL        ZR        ZF        ZM        ZC\n",
      "0  24773 -0.699567 -0.414003 -0.161025 -0.160808 -0.256000\n",
      "1   5343  0.484868 -0.801675  2.487117  2.428455  0.310348\n",
      "2  15788  1.161917 -0.377088 -0.086262 -0.094252 -0.154787\n",
      "3  12179 -0.314036  1.683256 -0.572875 -0.535827 -0.173351\n",
      "4   4209  0.051279 -0.003016 -0.227978 -0.232012  2.187512\n"
     ]
    }
   ],
   "source": [
    "# 统计聚类的每个标签，各有多少个关联的样本点\n",
    "series1 = pd.Series(model.labels_).value_counts()\n",
    "print(\"每个聚类类别的样本数量：\\n\", series1)\n",
    "# 统计每个聚类类别的中心点\n",
    "series2 = pd.DataFrame(model.cluster_centers_)\n",
    "print(\"每个聚类类别的中心点：\\n\", series2)\n",
    "# 整合统计数据\n",
    "print(\"聚类个数及中心点统计：\")\n",
    "stats= pd.concat([series1,series2], axis=1)\n",
    "stats.columns = ['聚类个数'] + list(normalized_data.columns)\n",
    "print(stats)"
   ]
  },
  {
   "cell_type": "markdown",
   "metadata": {},
   "source": [
    "### **任务6：分析聚类结果**\n",
    "* 每个聚类都包含聚类中心点五个维度值(ZL、ZR、ZF、ZM、ZC)，每个维度都代表了该聚类下所有样本点的取值倾向\n",
    "  * 维度值为正数，表明该聚类样本点的取值普遍大于所有样本点的平均值；维度值越大，超过平均值越多\n",
    "  * 维度值为负数，表明该聚类样本点的取值普遍小于所有样本点的平均值；维度值越小，低于平均值越多\n",
    "  * 对于指标ZL、ZF、ZM、ZC，这些数据值越大，就越说明该类别的乘客值得重视\n",
    "  * 而对于指标ZR，该值越大，说明上次乘坐间隔时间越长，其重要程度就越小\n",
    "* 作出5个聚类的聚类中心点在每个维度上的散点图，并按同一类别连接起来，可得到类似于下图的结果：  \n",
    "  ![](../images/10A02.png)   \n",
    "* 结合上图分析如下：\n",
    "  * 聚类0(红线)：L较大，说明入会时间长；但其它值都比较低，说明不活跃，也不高端。这类乘客可划入【重要挽留】类，防止其流失\n",
    "  * 聚类1(绿线)：入会时间特别短，距离最近一次乘坐的时间却并不久远，看不出其潜力。这类乘客可划入【普通】类\n",
    "  * 聚类2(黄线)：最近一次乘坐离当前时间久远，且其它指标都很低。这类乘客可能只是偶尔乘坐，可划入【低价值】类\n",
    "  * 聚类3(蓝线)：C很大，说明折扣大(也就是说舱位等级高)；但入会时间不长，频率和里程低。这类乘客可划入【重要发展】类，提升其乘坐次数\n",
    "  * 聚类4(黑线)：R很小，且L和M很高，说明经常乘坐飞机。这类乘客是【重点保持】类，是航空公司的主要客流，要优先保障"
   ]
  },
  {
   "cell_type": "code",
   "execution_count": 19,
   "metadata": {},
   "outputs": [
    {
     "data": {
      "image/png": "[encoded data removed]",
      "text/plain": [
       "<Figure size 432x288 with 1 Axes>"
      ]
     },
     "metadata": {
      "needs_background": "light"
     },
     "output_type": "display_data"
    }
   ],
   "source": [
    "%matplotlib inline\n",
    "import matplotlib.pyplot as plt\n",
    "\n",
    "centers = model.cluster_centers_  \n",
    "x = [1,2,3,4,5]  \n",
    "colors = ['red','green','yellow','blue','black']  \n",
    "for i in range(5): \n",
    "    plt.plot(x, centers[i], label='Cluster '+str(i), linewidth=1, color=colors[i], marker='o')   \n",
    "plt.xlabel('ZL -- ZR -- ZF -- ZM -- ZC')  \n",
    "plt.ylabel('Cluster Center Value')  \n",
    "plt.legend()\n",
    "plt.show()  "
   ]
  }
 ],
 "metadata": {
  "kernelspec": {
   "display_name": "Python 3",
   "language": "python",
   "name": "python3"
  },
  "language_info": {
   "codemirror_mode": {
    "name": "ipython",
    "version": 3
   },
   "file_extension": ".py",
   "mimetype": "text/x-python",
   "name": "python",
   "nbconvert_exporter": "python",
   "pygments_lexer": "ipython3",
   "version": "3.6.8"
  }
 },
 "nbformat": 4,
 "nbformat_minor": 2
}
