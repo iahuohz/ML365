{
 "cells": [
  {
   "cell_type": "markdown",
   "metadata": {},
   "source": [
    "## **演示0503：梯度下降算法**"
   ]
  },
  {
   "cell_type": "markdown",
   "metadata": {},
   "source": [
    "### **计算过程：**\n",
    "假设下列函数定义：\n",
    "$ F(w) = \\frac{1}{2m} \\sum_{i=1}^{m}[f_w(x^{(i)}) - y^{(i)}]^2 = \\frac{1}{2m} \\sum_{i=1}^{m}(w_0+w_1 x^{(i)} - y^{(i)})^2 $\n",
    "其中：\n",
    "* $m$:样本数据点数量\n",
    "* $f_w$ :以$w$为系数的拟合函数\n",
    "* $x^{(i)}$:第$i$个数据的横坐标值(数据中的自变量)\n",
    "* $y^{(i)}$:第$i$个数据的纵坐标值(数据中的因变量)\n",
    "* $f_w(x^{(i)})$:将$x^{(i)}$ 代入到拟合函数计算的结果\n",
    "* $F(w)$:也称为**目标函数**或**成本函数**  \n",
    "根据最小二乘法可知,针对函数$F(w)$,要设法求出最优的$w$,从而使得$F(w)$的值最小。求解过程可以使用梯度下降法来实现。\n",
    "\n",
    "对于只有一个自变量($x$)的情形，此时最优的$w$实际上包括$w_0$和$w_1$，使用梯度下降算法的基本步骤如下：\n",
    "1. 给定目标函数$F(w)$(实际上也是$F(w_0, w_1)$)和学习速率(learning rate): $ \\alpha $\n",
    "2. 随机初始化$w_0$和$w_1$ ,计算出$F(w_0 , w_1)$\n",
    "3. 计算出能够使$F(w)$下降最快的$w$偏移量(梯度)：$\\Delta w$，叠加到初始的$w_0$和$w_1$上\n",
    "  * 针对$w_0$和$w_1$，分别计算梯度$\\nabla w_0$和$\\nabla w_1$\n",
    "  * 按下列公式调整$w_0$和$w_1$:\n",
    "    * $ w_0 = w_0 - \\alpha \\nabla w_0 $\n",
    "    * $ w_1 = w_1 - \\alpha \\nabla w_1 $\n",
    "    * 请注意，$w_0$和$w_1$的变化方向要与导数的方向相反\n",
    "  * 利用调整后的$w_0$和$w_1$，再次计算$F(w_0, w_1)$\n",
    "4. 循环第3步过程，直到最近两次计算出来的目标函数的差值小于某个误差限\n",
    "5. 此时$w_0$和$w_1$就是目标函数的最优解  \n",
    "\n",
    "注意：\n",
    "* 可能需要尝试及合理选择$\\alpha $。$\\alpha $太大，有可能越过了最优点；$\\alpha $小，收敛速度会非常慢\n",
    "* 当前主流的梯度算法，能够随着梯度下降循环的进行，动态调整$\\alpha $值，从而能够较快的收敛，又能避免跨越最优点的情形\n",
    "* 找到的最优点，也有可能是局部最优点而非全局最优点"
   ]
  },
  {
   "cell_type": "markdown",
   "metadata": {},
   "source": [
    "### **算法原理示意**\n",
    "下图展示了梯度下降算法的工作原理：\n",
    "\n",
    "![](../images/050301.png)\n",
    "\n",
    "* 选择一个初始点(即给定初始的$w$)，作为当前工作点\n",
    "* 计算该点出的梯度值(导数$\\dfrac{\\partial F}{\\partial w}$)，沿着梯度最大的方向，移动当前工作点到新的位置\n",
    "* 经过若干次移动后，如果新的工作点位置对应的$F(w)$值与上一个位置几乎没有差异，则可以认为找到了极值点\n",
    "* 请注意，一般来说，采用梯度下降法求取极小值（而不是极大值）"
   ]
  },
  {
   "cell_type": "markdown",
   "metadata": {},
   "source": [
    "### **批量梯度下降法**\n",
    "> 梯度下降法中最重要的一步是计算某个工作点的梯度$\\nabla w$。有多种用于计算$\\nabla w$的方法,其计算结果也会有所不同\n",
    "> * 批量梯度下降法是指：在计算$\\nabla w$时,要把所有样本点数据的梯度都计算进去,也就是直接针对$F(w)$来计算偏导(注意$F(w)$中包含了所有样本点的数据值)：\n",
    ">\n",
    ">  $ \\begin{aligned} \\\\ \n",
    "\\nabla w_0 & =\\frac{\\partial F(w)}{\\partial w_0} \\\\ \\\\ & =\\dfrac{\\partial \\frac{1}{2m} \\sum_{i=1}^{n}(w_0+w_1 x^{(i)}-y^{(i)})^2}{\\partial w_0} \\\\ \\\\\n",
    "& = \\dfrac{\\frac{1}{2m} \\cdot 2 \\cdot \\sum_{i=1}^m [(w_0+w_1 x^{(i)}-y^{(i)}) \\cdot \\partial {(w_0+w_1 x^{(i)}-y^{(i)})}]}{\\partial w_0} \\\\ \\\\\n",
    "& = \\dfrac{1}{m} \\sum_{i=1}^m [(w_0+w_1 x^{(i)}-y^{(i)}) \\cdot (1+0+0)] \\\\ \\\\ & =\\dfrac{1}{m} \\sum_{i=1}^m (w_0+w_1 x^{(i)}-y^{(i)})\n",
    "\\end{aligned} $\n",
    ">\n",
    ">  $ \\begin{aligned}\n",
    "\\nabla w_1 & =\\frac{\\partial F(w)}{\\partial w_1} \\\\ \\\\ & =\\dfrac{\\partial \\frac{1}{2m} \\sum_{i=1}^{n}(w_0+w_1 x^{(i)}-y^{(i)})^2}{\\partial w_1} \\\\ \\\\\n",
    "& = \\dfrac{\\frac{1}{2m} \\cdot 2 \\cdot \\sum_{i=1}^m [(w_0+w_1 x^{(i)}-y^{(i)}) \\cdot \\partial {(w_0+w_1 x^{(i)}-y^{(i)})}]}{\\partial w_1} \\\\ \\\\\n",
    "& = \\dfrac{1}{m} \\sum_{i=1}^m [(w_0+w_1 x^{(i)}-y^{(i)}) \\cdot (0 + x^{(i)} + 0)] \\\\ \\\\ & =\\frac{1}{m} \\sum_{i=1}^m [(w_0+w_1 x^{(i)}-y^{(i)}) \\cdot x^{(i)}] \n",
    "\\end{aligned} $\n",
    ">\n",
    "> * 在梯度下降算法的每一步，计算出$\\nabla w$后，代入下式中进行下一步计算：\n",
    ">\n",
    ">  $ w_0 = w_0-\\alpha \\nabla w_0 $\n",
    ">\n",
    ">  $ w_1 = w_1-\\alpha \\nabla w_1 $"
   ]
  },
  {
   "cell_type": "markdown",
   "metadata": {},
   "source": [
    "### **案例1：使用批量梯度下降算法拟合直线**\n",
    "> 待拟合的二维平面数据点：(6, 7), (8, 9), (10, 13), (14, 17.5), (18, 18)"
   ]
  },
  {
   "cell_type": "markdown",
   "metadata": {},
   "source": [
    ">**步骤1：定义目标函数、梯度函数**"
   ]
  },
  {
   "cell_type": "code",
   "execution_count": 2,
   "metadata": {
    "scrolled": true
   },
   "outputs": [],
   "source": [
    "import numpy as np\n",
    "import matplotlib.pyplot as plt\n",
    "%matplotlib inline\n",
    "\n",
    "# 定义目标函数，该目标函数实际上是残差平方和。相当于采用了最小二乘法。\n",
    "def target_function(W, X, Y):                           \n",
    "    w1, w0 = W\n",
    "    return np.sum((w0 + X * w1 - Y) ** 2) / (2 * len(X))  # 应使用np.sum，而不要使用sum。np.sum支持向量/矩阵运算\n",
    "\n",
    "# 定义梯度\n",
    "# 根据目标函数，分别对x0和x1求导数(梯度)，并累计各点的导数之平均值\n",
    "def gradient_function(W, X, Y):                         \n",
    "    w1, w0 = W\n",
    "    w0_grad = np.sum(w0 + X * w1 - Y) / len(X)      # 对应w0的导数\n",
    "    w1_grad = X.dot(w0 + X * w1 - Y) / len(X)       # 对应w1的导数。注意采用向量运算\n",
    "    return np.array([w1_grad, w0_grad]) "
   ]
  },
  {
   "cell_type": "markdown",
   "metadata": {},
   "source": [
    "> **步骤2：定义批量梯度下降算法计算函数**"
   ]
  },
  {
   "cell_type": "code",
   "execution_count": 3,
   "metadata": {},
   "outputs": [],
   "source": [
    "# 定义最简单的批量梯度下降算法函数\n",
    "def batch_gradient_descent(target_fn, gradient_fn, init_W, X, Y, learning_rate=0.001, tolerance=1e-12):\n",
    "    W = init_W\n",
    "    target_value = target_fn(W, X, Y)                   # 计算当前w下的F(w)值\n",
    "    while True:\n",
    "        gradient = gradient_fn(W, X, Y)                 # 计算梯度\n",
    "        next_W = W - gradient * learning_rate           # 调整W。向量计算，同时调整了w1和w0\n",
    "        next_target_value = target_fn(next_W, X, Y)     # 计算新theta下的cost值\n",
    "        if abs(next_target_value - target_value) < tolerance:   # 如果两次计算之间的误差小于tolerance，则表明已经收敛\n",
    "            return next_W\n",
    "        else:\n",
    "            W, target_value = next_W, next_target_value         # 继续进行下一轮计算"
   ]
  },
  {
   "cell_type": "markdown",
   "metadata": {},
   "source": [
    ">**步骤3：执行批量梯度下降操作，获取最优权重参数解**"
   ]
  },
  {
   "cell_type": "code",
   "execution_count": 4,
   "metadata": {},
   "outputs": [
    {
     "name": "stdout",
     "output_type": "stream",
     "text": [
      "最优的w1和w0: 0.9763122679381336 1.9652710600118533\n"
     ]
    }
   ],
   "source": [
    "# 待拟合的数据点\n",
    "x = np.array([6, 8, 10, 14, 18])\n",
    "y = np.array([7, 9, 13, 17.5, 18])\n",
    "\n",
    "np.random.seed(0)\n",
    "init_W = np.array([np.random.random(), np.random.random()])      # 随机初始化W值\n",
    "w1, w0 = batch_gradient_descent(target_function, gradient_function, init_W, x, y) \n",
    "print(\"最优的w1和w0:\", w1, w0)"
   ]
  },
  {
   "cell_type": "markdown",
   "metadata": {},
   "source": [
    ">**步骤4：根据最优解做出拟合曲线，并作图比较**"
   ]
  },
  {
   "cell_type": "code",
   "execution_count": 5,
   "metadata": {},
   "outputs": [
    {
     "data": {
      "image/png": "[encoded data removed]",
      "text/plain": [
       "<matplotlib.figure.Figure at 0x2db32199b38>"
      ]
     },
     "metadata": {},
     "output_type": "display_data"
    }
   ],
   "source": [
    "def initPlot():\n",
    "    plt.figure()\n",
    "    plt.xlabel('X')\n",
    "    plt.ylabel('Y')\n",
    "    plt.axis([0, 25, 0, 25])\n",
    "    plt.grid(True)\n",
    "    return plt\n",
    "\n",
    "plt = initPlot()\n",
    "plt.plot(x, y, 'k.')\n",
    "plt.plot(x,  w0 + w1 * x, 'g-')     # 绘制最优拟合曲线\n",
    "plt.show()"
   ]
  },
  {
   "cell_type": "markdown",
   "metadata": {},
   "source": [
    "### **案例2：使用批量梯度下降算法拟合多维数据**\n",
    "* 待拟合的数据点：\n",
    " * 样本点对应的x值：[[6, 2], [8, 1], [10, 0], [14, 2], [18, 0]])\n",
    " * 样本点对应的y值：[19, 21, 23, 43, 47])\n",
    "* 上述数据点是根据函数$y=3*x_1+4*x_2-7$生成的"
   ]
  },
  {
   "cell_type": "markdown",
   "metadata": {},
   "source": [
    ">**步骤1：定义样本数据，并扩展一个全为1的列**"
   ]
  },
  {
   "cell_type": "code",
   "execution_count": 6,
   "metadata": {},
   "outputs": [
    {
     "name": "stdout",
     "output_type": "stream",
     "text": [
      "[[ 6.  2.  1.]\n",
      " [ 8.  1.  1.]\n",
      " [10.  0.  1.]\n",
      " [14.  2.  1.]\n",
      " [18.  0.  1.]]\n"
     ]
    }
   ],
   "source": [
    "# 下列数据是按照y=3*x1+4*x2-7函数生成的\n",
    "x_origin = np.array([[6, 2], [8, 1], [10, 0], [14, 2], [18, 0]])\n",
    "y = np.array([19, 21, 23, 43, 47])\n",
    "x_ext = np.c_[x_origin, np.ones(len(x_origin))]         # 追加全是1的数据列\n",
    "print(x_ext)"
   ]
  },
  {
   "cell_type": "markdown",
   "metadata": {},
   "source": [
    ">**步骤2：定义目标函数和梯度函数**\n",
    "* 在计算$\\nabla w$时，可以一次性计算所有$w$分量的梯度：$\\nabla w=X^T \\cdot (Xw-y)$"
   ]
  },
  {
   "cell_type": "code",
   "execution_count": 7,
   "metadata": {},
   "outputs": [],
   "source": [
    "def target_function(W, X, Y):                           # 目标函数\n",
    "    temp = X.dot(W) - Y                                 # X.dot(W)可视为拟合曲线计算得出的结果向量；temp则是残差\n",
    "    return temp.dot(temp) / (2 * len(X))                # 实际上就是残差平方和除以2m\n",
    "\n",
    "def gradient_function(W, X, Y):                         # 梯度计算函数\n",
    "    length = len(X)\n",
    "    W_grad = (X.T).dot(X.dot(W) - Y) / length           # 仔细对照批量梯度下降法的梯度计算该公式理解此代码\n",
    "    return W_grad"
   ]
  },
  {
   "cell_type": "markdown",
   "metadata": {},
   "source": [
    ">**步骤3：定义多元梯度下降算法计算函数**"
   ]
  },
  {
   "cell_type": "code",
   "execution_count": 8,
   "metadata": {},
   "outputs": [],
   "source": [
    "def batch_gradient_descent(target_fn, gradient_fn, init_W, X, Y, learning_rate=0.001, tolerance=1e-12):\n",
    "    \"\"\"支持多变量的批量梯度下降法\"\"\"\n",
    "    # 假设函数为：y = wn * xn + w(n-1) * x(n-1) +... + w2 * x2 + w1 * x1 + w0 * x0 其中，x0为1\n",
    "    # X中：第一列为xn,第二列为x(n-1)，依次类推，最后一列为x0(全为1)\n",
    "    # W向量顺序是：wn,w(n-1),...w1,w0，要确保与X中各列顺序一致\n",
    "    W = init_W\n",
    "    target_value = target_fn(W, X, Y) \n",
    "    iter_count = 0\n",
    "    while iter_count < 50000:                      # 如果50000次循环仍未收敛，则认为无法收敛\n",
    "        gradient = gradient_fn(W, X, Y)\n",
    "        next_W = W - gradient * learning_rate \n",
    "        next_target_value = target_fn(next_W, X, Y)\n",
    "        if abs(target_value - next_target_value) < tolerance:\n",
    "            print(\"循环\", iter_count, \"次后收敛\")\n",
    "            return W\n",
    "        else:                                             \n",
    "            W, target_value = next_W, next_target_value\n",
    "            iter_count += 1\n",
    "    \n",
    "    print(\"50000次循环后，计算仍未收敛\")\n",
    "    return W"
   ]
  },
  {
   "cell_type": "markdown",
   "metadata": {},
   "source": [
    ">**步骤4：执行批量梯度下降操作，并检验拟合数据与样本数据的差异**\n",
    "* 尝试调整tolerance和learning_rate的值，查看循环所需的次数。一般应有下列情况：\n",
    "  * 给定learning_rate=0.01，调整tolerance(1e-5, 1e-6, 1e-7,1e-8等)，可看到，拟合精度越高，需要的循环次数越多\n",
    "  * 给定tolerance=1e-7，调整learning_rate(0.1, 0.01, 0.005, 0.001等)，可看到，如果rate太大，有可能直接溢出造成不收敛；rate太小，就需要更多的循环次数，甚至在规定的循环次数内无法收敛\n",
    "* 采用相同的tolerance和learning_rate时，无论运行多少次，每次的结果都是相同的"
   ]
  },
  {
   "cell_type": "code",
   "execution_count": 9,
   "metadata": {},
   "outputs": [
    {
     "name": "stdout",
     "output_type": "stream",
     "text": [
      "循环 30562 次后收敛\n",
      "W值 [ 2.99998771  3.99995426 -6.99980291]\n",
      "拟合曲线计算的数据值与真实值的差异： [ 3.18885104e-05  5.30614618e-05  7.42344132e-05 -6.63961846e-05\n",
      " -2.40502817e-05]\n"
     ]
    }
   ],
   "source": [
    "np.random.seed(0)\n",
    "init_W = np.random.randn(x_ext.shape[1])                # x_ext现在是5x3的矩阵，因此init_W需要3个初始元素\n",
    "learning_rate = 0.005                                   # 可调整learning_rate\n",
    "tolerance = 1e-12                                        # 可调整tolerance\n",
    "W = batch_gradient_descent(target_function, gradient_function, init_W, x_ext, y, learning_rate, tolerance)\n",
    "print(\"W值\", W)                                         # 此结果应与3, 4, -7接近\n",
    "\n",
    "print(\"拟合曲线计算的数据值与真实值的差异：\", x_ext.dot(W) - y)"
   ]
  },
  {
   "cell_type": "markdown",
   "metadata": {},
   "source": [
    "### **随机梯度下降算法**\n",
    "计算梯度时，从训练数据中随机选择一组数据，仅针对该数据求导。假设选择的数据是$(x^{(k)}, y^{(k)})$，则：  \n",
    "$ \\dfrac{\\partial F(w)}{\\partial w_0}=2 \\cdot (w_0+ w_1 x^{(k)}-y^{(k)}) $  \n",
    "$ \\dfrac{\\partial F(w)}{\\partial w_1}=2 \\cdot (w_0+ w_1 x^{(k)}-y^{(k)}) \\cdot x^{(k)} $"
   ]
  },
  {
   "cell_type": "markdown",
   "metadata": {},
   "source": [
    "### **案例3：使用随机梯度下降法拟合多维数据**\n",
    ">下面的代码演示了如何使用随机梯度下降法来拟合多维数据，要注意：  \n",
    "* learning_rate不能太大，否则无法收敛。\n",
    "* 每次运行的结果可能略有差异"
   ]
  },
  {
   "cell_type": "code",
   "execution_count": 10,
   "metadata": {},
   "outputs": [
    {
     "name": "stdout",
     "output_type": "stream",
     "text": [
      "已完成循环次数： 50000\n",
      "[ 2.99950312  3.99816954 -6.99196235]\n",
      "拟合曲线计算的数据值与真实值的差异： [ 0.00139542  0.00223211  0.0030688  -0.00257965 -0.00090627]\n"
     ]
    }
   ],
   "source": [
    "''' 随机梯度下降算法进行多元线性拟合 '''\n",
    "\n",
    "def stochastic_gradient_descent(target_fn, gradient_fn, init_W, X, Y, learning_rate=0.001, tolerance=1e-12):\n",
    "    \"\"\"随机梯度下降法，本函数内部尝试使用了动态调整learning_rate\"\"\"\n",
    "    W = init_W\n",
    "    rate = learning_rate\n",
    "    min_W, min_target_value = None, float(\"inf\") \n",
    "    iter_count = 0\n",
    "    iterations_with_no_improvement = 0\n",
    "    m = len(X)\n",
    "    target_value = target_fn(W, X, Y)\n",
    "    while iter_count < 50000 and iterations_with_no_improvement < 100:  # 如果连续缩小学习速率100次进行计算，都没有计算出更低的结果值，则说明已经收敛\n",
    "        target_value = target_fn(W, X, Y)\n",
    "        iter_count += 1\n",
    "        if target_value < min_target_value:             # 计算出了更低的成本值\n",
    "            min_W, min_target_value = W, target_value\n",
    "            iterations_with_no_improvement = 0          # 因为找到了新的低值，重新开始计数\n",
    "            rate = learning_rate                        # rate也恢复到初始值\n",
    "        else:                                           # 未能计算出更低成本值，此时缩小学习速率再尝试，直到连续缩小100次\n",
    "            iterations_with_no_improvement += 1\n",
    "            rate *= 0.9\n",
    "        index = np.random.randint(0, m)                     # 获得一组随机数据的索引值\n",
    "        gradient = gradient_fn(W, X[index], Y[index])       # 计算该数据点处的导数\n",
    "        W = W - learning_rate * gradient\n",
    "    print(\"已完成循环次数：\", iter_count)\n",
    "    return min_W\n",
    "\n",
    "def target_function(W, X, Y):\n",
    "    temp = X.dot(W) - Y \n",
    "    return temp.dot(temp) / (2 * len(X))\n",
    "\n",
    "# 只需要计算一个样本点(xi)的梯度\n",
    "def gradient_function(W, xi, yi):\n",
    "    return 2 * xi * (xi.dot(W) - yi)\n",
    "\n",
    "# 下列数据是按照y=3*x1+4*x2-7函数生成的\n",
    "x_origin = np.array([[6, 2], [8, 1], [10, 0], [14, 2], [18, 0]])\n",
    "y = np.array([19, 21, 23, 43, 47])\n",
    "x_ext = np.c_[x_origin, np.ones(len(x_origin))]         # 追加全是1的数据列\n",
    "\n",
    "import time\n",
    "np.random.seed((int)(time.time()))                      # 每次运行程序产生不同的随机序列\n",
    "init_W = np.random.randn(x_ext.shape[1])\n",
    "# 执行随机梯度下降操作\n",
    "W = stochastic_gradient_descent(target_function, gradient_function, init_W, x_ext, y)      \n",
    "print(W)\n",
    "\n",
    "print(\"拟合曲线计算的数据值与真实值的差异：\", x_ext.dot(W) - y)"
   ]
  }
 ],
 "metadata": {
  "kernelspec": {
   "display_name": "Python 3",
   "language": "python",
   "name": "python3"
  },
  "language_info": {
   "codemirror_mode": {
    "name": "ipython",
    "version": 3
   },
   "file_extension": ".py",
   "mimetype": "text/x-python",
   "name": "python",
   "nbconvert_exporter": "python",
   "pygments_lexer": "ipython3",
   "version": "3.6.8"
  }
 },
 "nbformat": 4,
 "nbformat_minor": 2
}
