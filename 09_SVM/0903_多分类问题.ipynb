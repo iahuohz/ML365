{
 "cells": [
  {
   "cell_type": "markdown",
   "metadata": {},
   "source": [
    "## **实验0903：多分类问题**"
   ]
  },
  {
   "cell_type": "markdown",
   "metadata": {},
   "source": [
    "### **1 vs All方法**\n",
    "* 针对所有样本数据，先分成1类和其它类，使用SVM计算边界超平面L1\n",
    "* 再分成2类和其它类，再次计算超平面$L_2$。依次类推直到$L_k$ ($k$为分类数)\n",
    "* 预测新数据时，分别跟$L_1,L_2,\\cdots,L_k$进行判断，如果有一个超平面直接判别属于某个类别，则完成预测\n",
    "* 如果有多个超平面判别属于各自不同类别，则一般只能任选一个\n",
    "* 如果没有任何超平面判别属于某个类别，则一般只能视为无法分类数据\n",
    "\n",
    "### **1 vs 1方法**\n",
    "* 先只对1类和2类的数据进行计算，得到1类和2类的分割超平面\n",
    "* 然后对2类和3类计算，之后1类和3类...等等。直到两两类别分别完成计算\n",
    "* 预测新数据时，对两两类别之间的分割超平面分别进行匹配。统计有多少次判别将其划归为1类，多少次判为2类....。判定所属类别次数最多的，就是预测的结果类别"
   ]
  },
  {
   "cell_type": "markdown",
   "metadata": {},
   "source": [
    "### **案例1：使用多分类SVM来计算数字图片分类**"
   ]
  },
  {
   "cell_type": "code",
   "execution_count": 2,
   "metadata": {},
   "outputs": [
    {
     "name": "stdout",
     "output_type": "stream",
     "text": [
      "装载训练数据： 5000 条，训练中......\n",
      "训练完毕，保存模型...\n",
      "模型保存完毕，执行测试...\n",
      "装载测试数据： 500 条，预测中......\n",
      "预测完毕。错误： 51 条\n",
      "测试数据正确率: 0.898\n",
      "模型内建的正确率估计： 0.898\n"
     ]
    }
   ],
   "source": [
    "''' 使用SVM实现多分类 '''\n",
    "import numpy as np\n",
    "from sklearn import svm\n",
    "from sklearn.externals import joblib\n",
    "\n",
    "def normalizeData(X):\n",
    "    return (X - X.mean()) / X.max()\n",
    "\n",
    "trainData = np.loadtxt(open('digits_training.csv', 'r'), delimiter=\",\",skiprows=1)\n",
    "MTrain, NTrain = np.shape(trainData)\n",
    "xTrain = trainData[:,1:NTrain]\n",
    "xTrain = normalizeData(xTrain)         \n",
    "yTrain = trainData[:,0]\n",
    "print(\"装载训练数据：\", MTrain, \"条，训练中......\")\n",
    "\n",
    "model = svm.SVC(decision_function_shape='ovo')  # 采用1 vs 1的多分类策略\n",
    "model.fit(xTrain, yTrain)   \n",
    "\n",
    "print(\"训练完毕，保存模型...\")\n",
    "joblib.dump(model, \"svm_classifier_model1.m\")                 # 保存模型到文件中\n",
    "print(\"模型保存完毕，执行测试...\")\n",
    "\n",
    "testData = np.loadtxt(open('digits_testing.csv', 'r'), delimiter=\",\",skiprows=1)\n",
    "MTest,NTest = np.shape(testData)\n",
    "xTest = testData[:,1:NTest]\n",
    "xTest = normalizeData(xTest)\n",
    "yTest = testData[:,0]\n",
    "print(\"装载测试数据：\", MTest, \"条，预测中......\")\n",
    "\n",
    "model = joblib.load(\"svm_classifier_model1.m\")               # 从之前保存的模型中装载参数\n",
    "yPredict = model.predict(xTest)\n",
    "errors = np.count_nonzero(yTest - yPredict)\n",
    "print(\"预测完毕。错误：\", errors, \"条\")\n",
    "print(\"测试数据正确率:\", (MTest - errors) / MTest)\n",
    "model_accuracy = model.score(xTest, yTest)\n",
    "print(\"模型内建的正确率估计：\", model_accuracy)                # 约0.898"
   ]
  }
 ],
 "metadata": {
  "kernelspec": {
   "display_name": "Python 3",
   "language": "python",
   "name": "python3"
  },
  "language_info": {
   "codemirror_mode": {
    "name": "ipython",
    "version": 3
   },
   "file_extension": ".py",
   "mimetype": "text/x-python",
   "name": "python",
   "nbconvert_exporter": "python",
   "pygments_lexer": "ipython3",
   "version": "3.6.8"
  }
 },
 "nbformat": 4,
 "nbformat_minor": 2
}
