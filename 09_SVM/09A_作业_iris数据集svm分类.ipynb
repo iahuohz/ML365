{
 "cells": [
  {
   "cell_type": "markdown",
   "metadata": {},
   "source": [
    "## **作业09A：使用svm对iris数据集分类**"
   ]
  },
  {
   "cell_type": "markdown",
   "metadata": {},
   "source": [
    "### **任务1：装载及了解iris数据集**\n",
    "iris数据集一共包括150条数据  \n",
    "* 每条数据包含4个鸢尾花的特征，分别是：\n",
    " * sepal length(花萼长度)\n",
    " * sepal width(花萼宽度)\n",
    " * petal length(花瓣长度)\n",
    " * petal width(花瓣宽度)  \n",
    "* 每条数据对应1个鸢尾花的分类结果，分别是：\n",
    " * 'setosa'，用整数0代表\n",
    " * 'versicolor'，用整数1代表\n",
    " * 'virginica'，用整数2代表"
   ]
  },
  {
   "cell_type": "code",
   "execution_count": 1,
   "metadata": {},
   "outputs": [
    {
     "name": "stdout",
     "output_type": "stream",
     "text": [
      "分类标签名称： ['setosa' 'versicolor' 'virginica']\n",
      "特征名称： ['sepal length (cm)', 'sepal width (cm)', 'petal length (cm)', 'petal width (cm)']\n",
      "特征集维度： (150, 4)\n",
      "标签集维度： (150,)\n"
     ]
    }
   ],
   "source": [
    "from sklearn.datasets import load_iris\n",
    "\n",
    "iris = load_iris()\n",
    "print(\"分类标签名称：\", iris.target_names)\n",
    "print(\"特征名称：\", iris.feature_names)\n",
    "print(\"特征集维度：\", iris.data.shape)\n",
    "print(\"标签集维度：\", iris.target.shape)"
   ]
  },
  {
   "cell_type": "markdown",
   "metadata": {},
   "source": [
    "### **任务2：拆分成训练集和测试集，并进行归一化处理**"
   ]
  },
  {
   "cell_type": "code",
   "execution_count": 3,
   "metadata": {},
   "outputs": [
    {
     "name": "stdout",
     "output_type": "stream",
     "text": [
      "训练数据集维度： (120, 4)\n"
     ]
    }
   ],
   "source": [
    "from sklearn.model_selection import train_test_split\n",
    "X_train,X_test,y_train,y_test = train_test_split(iris.data, iris.target, test_size=0.2,random_state=5)\n",
    "print(\"训练数据集维度：\", X_train.shape)\n",
    "\n",
    "from sklearn.preprocessing import StandardScaler\n",
    "nomalizer = StandardScaler()\n",
    "X_train = nomalizer.fit_transform(X_train)\n",
    "X_test = nomalizer.transform(X_test)"
   ]
  },
  {
   "cell_type": "markdown",
   "metadata": {},
   "source": [
    "### **任务3：使用SVM进行分类，并针对测试数据计算分类准确率**"
   ]
  },
  {
   "cell_type": "code",
   "execution_count": 7,
   "metadata": {},
   "outputs": [
    {
     "name": "stdout",
     "output_type": "stream",
     "text": [
      "None\n"
     ]
    }
   ],
   "source": [
    "from sklearn.svm import SVC\n",
    "accuracy = None\n",
    "\n",
    "### TODO：创建SVC对象，训练模型，针对测试数据计算准确率保存在accuracy变量中\n",
    "\n",
    "# 打印测试数据的预测准确率\n",
    "print(accuracy)"
   ]
  }
 ],
 "metadata": {
  "kernelspec": {
   "display_name": "Python 3",
   "language": "python",
   "name": "python3"
  },
  "language_info": {
   "codemirror_mode": {
    "name": "ipython",
    "version": 3
   },
   "file_extension": ".py",
   "mimetype": "text/x-python",
   "name": "python",
   "nbconvert_exporter": "python",
   "pygments_lexer": "ipython3",
   "version": "3.6.8"
  }
 },
 "nbformat": 4,
 "nbformat_minor": 2
}
