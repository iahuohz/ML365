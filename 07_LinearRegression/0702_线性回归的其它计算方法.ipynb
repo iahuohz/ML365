{
 "cells": [
  {
   "cell_type": "markdown",
   "metadata": {},
   "source": [
    "## **演示0702：线性回归的其它计算方法**"
   ]
  },
  {
   "cell_type": "markdown",
   "metadata": {},
   "source": [
    "### **案例1：基于协方差-方差公式的实现**\n",
    ">可以参考【实验0502_最小二乘法】中的协方差-方差公式部分  \n",
    "* 系数计算公式：  \n",
    "$ \\theta_1= \\dfrac{\\sum_i^m (\\bar x - x^{(i)})(\\bar y - y^{(i)})}{\\sum_i^m (\\bar x - x^{(i)})^2}=\\dfrac{cov(x, y)}{var(x)} $  \n",
    "$ \\theta_0=\\bar y - \\theta_1 \\bar x $\n",
    " * $\\bar y$：训练数据中$y$的平均值\n",
    " * $\\bar x$：训练数据中$x$的平均值\n",
    " * $cov(x, y)$：向量$x$和$y$的协方差\n",
    " * $var(x)$：向量$x$的方差\n",
    "* 使用该方法计算出来的判别函数参数，与LinearRegression对象的计算结果一致。"
   ]
  },
  {
   "cell_type": "code",
   "execution_count": 1,
   "metadata": {},
   "outputs": [
    {
     "name": "stdout",
     "output_type": "stream",
     "text": [
      "LinearRegression theta1= [0.9762931]\n",
      "LinearRegression theta0= 1.965517241379315\n",
      "Least Square theta1= 0.976293103448276\n",
      "Least Square theta0= 1.9655172413793096\n"
     ]
    }
   ],
   "source": [
    "''' 使用协方差-方差公式计算线性回归权重参数，并与LinearRegression结果对比 '''\n",
    "\n",
    "import numpy as np\n",
    "from sklearn.linear_model import LinearRegression\n",
    "\n",
    "xTrain = np.array([6,8,10,14,18])[:,np.newaxis]\n",
    "yTrain = np.array([7,9,13,17.5,18])\n",
    "\n",
    "model = LinearRegression() \n",
    "hypothesis = model.fit(xTrain, yTrain)\n",
    "print(\"LinearRegression theta1=\", hypothesis.coef_)\n",
    "print(\"LinearRegression theta0=\", hypothesis.intercept_)\n",
    "\n",
    "# cov函数是在各行元素之间计算协方差，所以x和y都应是行向量\n",
    "theta1 =  np.cov(xTrain.T, yTrain, ddof=1)[1,0] / np.var(xTrain, ddof=1)\n",
    "theta0 = np.mean(yTrain) - theta1 * np.mean(xTrain)\n",
    "print(\"Least Square theta1=\", theta1)                   # 通过最小二乘法公式计算的斜率\n",
    "print(\"Least Square theta0=\", theta0)                   # 通过最小二乘法公式计算的截距"
   ]
  },
  {
   "cell_type": "markdown",
   "metadata": {},
   "source": [
    "### **案例2：基于成本函数和批量梯度下降算法的实现**\n",
    ">  \n",
    "* 成本函数：\n",
    " * 在使用训练数据来训练模型时，用于定义判别函数与实际值的误差。成本函数计算结果越小，说明该模型与训练数据的匹配程度越高\n",
    " * 设定了某个模型后，只要给定了成本函数，就可以使用数值方法求出成本函数的最优解（极小值），从而确定判别函数模型中各个系数\n",
    " * 一元线性回归(直线拟合)的成本函数：  \n",
    "  $ J(\\theta)=\\dfrac{1}{2m} \\sum_{i=1}^m(h_\\theta(x^{(i)}) - y^{(i)})^2 = \\dfrac{1}{2m} \\sum_{i=1}^m(\\theta_0 + \\theta_1 x^{(i)} - y^{(i)})^2 $  \n",
    "   * $ m $：训练数据集中的数据组数。\n",
    "   * $ h_\\theta $：训练出来的判别函数\n",
    "   * $ x^{(i)} $：训练数据集中的第$ i $组数据的$ x $值（直径）\n",
    "   * $ y^{(i)} $：训练数据集中第$i$组数据的$y$值（实际价格）\n",
    "   * $ h_\\theta(x^{(i)}) $：将$x^{(i)}$代入到判别函数计算的结果，也就是根据判别函数算出的$y$值（预测价格）\n",
    "* 梯度计算：  \n",
    "$ \\begin{aligned}\n",
    "\\dfrac{\\partial J(\\theta)}{\\partial \\theta_0}=&\n",
    "\\dfrac{\\partial [\\dfrac{1}{2m} \\sum_{i=1}^m (\\theta_0 + \\theta_1 x^{(i)} - y^{(i)})^2]}{\\partial \\theta_0} \\\\ \\\\\n",
    "= & \\dfrac{\\dfrac{1}{2m} * 2 * \\sum_{i=1}^m [(\\theta_0 + \\theta_1 x^{(i)} - y^{(i)}) * \\partial {(\\theta_0 + \\theta_1 x^{(i)} - y^{(i)})}]}{\\partial \\theta_0} \\\\ \\\\\n",
    "= & \\dfrac{1}{m} \\sum_{i=1}^m [(\\theta_0 + \\theta_1 x^{(i)} - y^{(i)}) * (1+0+0)] \\\\ \\\\\n",
    "= & \\dfrac{1}{m} \\sum_{i=1}^m (\\theta_0 + \\theta_1 x^{(i)} - y^{(i)})\n",
    "\\end{aligned} $  \n",
    "$ \\begin{aligned}  \n",
    "\\dfrac{\\partial J(\\theta)}{\\partial \\theta_1}=&\n",
    "\\dfrac{\\partial [\\dfrac{1}{2m} \\sum_{i=1}^m (\\theta_0 + \\theta_1 x^{(i)} - y^{(i)})^2]}{\\partial \\theta_1} \\\\ \\\\\n",
    "= & \\dfrac{\\dfrac{1}{2m} * 2 * \\sum_{i=1}^m [(\\theta_0 + \\theta_1 x^{(i)} - y^{(i)}) * \\partial {(\\theta_0 + \\theta_1 x^{(i)} - y^{(i)})}]}{\\partial \\theta_1} \\\\ \\\\\n",
    "= & \\dfrac{1}{m} \\sum_{i=1}^m [(\\theta_0 + \\theta_1 x^{(i)} - y^{(i)}) * (0+x^{(i)}+0)] \\\\ \\\\\n",
    "= & \\dfrac{1}{m} \\sum_{i=1}^m [(\\theta_0 + \\theta_1 x^{(i)} - y^{(i)}) * x^{(i)}]\n",
    "\\end{aligned} $\n",
    "* 权重参数更新  \n",
    "$ \\theta_0'=\\theta_0 - \\alpha \\dfrac{\\partial J(\\theta)}{\\partial \\theta_0} $  \n",
    "$ \\theta_1'=\\theta_1 - \\alpha \\dfrac{\\partial J(\\theta)}{\\partial \\theta_1} $  \n",
    "* 请参考bgd_resolver.py文件中的批量梯度下降算法函数实现"
   ]
  },
  {
   "cell_type": "code",
   "execution_count": 2,
   "metadata": {},
   "outputs": [
    {
     "name": "stdout",
     "output_type": "stream",
     "text": [
      "循环 11321 次后收敛\n",
      "BGD theta1= 0.9763016738954665\n",
      "BGD theta0= 1.9654071479500155\n"
     ]
    },
    {
     "data": {
      "image/png": "[encoded data removed]",
      "text/plain": [
       "<matplotlib.figure.Figure at 0x1f0ecce85c0>"
      ]
     },
     "metadata": {},
     "output_type": "display_data"
    }
   ],
   "source": [
    "''' 使用批量梯度下降算法优化线性回归权重参数 '''\n",
    "\n",
    "%matplotlib inline\n",
    "import numpy as np\n",
    "import matplotlib.pyplot as plt\n",
    "import bgd_resolver    # 来自bgd_resolver.py文件\n",
    "\n",
    "def costFn(theta, X, y):                                # 定义线性回归的成本函数\n",
    "    temp = X.dot(theta) - y\n",
    "    return temp.dot(temp) / (2*len(X))\n",
    "\n",
    "def gradientFn(theta, X, y):                            # 根据成本函数，分别对x0和x1求导数(梯度)\n",
    "    return (X.T).dot(X.dot(theta) - y) / len(X)  \n",
    "\n",
    "xTrain = np.array([6,8,10,14,18])[:,np.newaxis]\n",
    "yTrain = np.array([7,9,13,17.5,18])\n",
    "xTrain_ext = np.c_[np.ones(len(xTrain)), xTrain]        # 第一列补充0。注意返回的第一个权重参数将对应theta0\n",
    "\n",
    "np.random.seed(0)\n",
    "theta_init = np.random.randn(xTrain_ext.shape[1])\n",
    "theta = bgd_resolver.batch_gradient_descent(costFn, gradientFn, theta_init, xTrain_ext, yTrain, learning_rate=0.005, tolerance=1e-12)  \n",
    "print(\"BGD theta1=\", theta[1])\n",
    "print(\"BGD theta0=\", theta[0])\n",
    "\n",
    "def initPlot():\n",
    "    plt.figure()\n",
    "    plt.title('Pizza Price vs Diameter')\n",
    "    plt.xlabel('Diameter')\n",
    "    plt.ylabel('Price')\n",
    "    plt.axis([0, 25, 0, 25])\n",
    "    plt.grid(True)\n",
    "    return plt\n",
    "\n",
    "plt = initPlot()\n",
    "plt.plot(xTrain, yTrain, 'k.')\n",
    "plt.plot(xTrain, xTrain_ext.dot(theta), 'g-')\n",
    "plt.show()"
   ]
  },
  {
   "cell_type": "markdown",
   "metadata": {},
   "source": [
    "### **案例3：基于SGDRegressor随机梯度下降算法的实现**\n",
    "> sklearn.linear_model.SGDRegressor对象提供了使用随机梯度下降算法进行线性回归的实现\n",
    "* 但是SGDRegressor对于数据集较大的情形比较合适，如果样本较少(例如本例)，其效果一般不好\n",
    "* 可以观察到，每次运行时，其优化结果并不相同"
   ]
  },
  {
   "cell_type": "code",
   "execution_count": 3,
   "metadata": {},
   "outputs": [
    {
     "name": "stdout",
     "output_type": "stream",
     "text": [
      "SGD theta1= 0.9909625948658856\n",
      "SGD theta0= 1.7038394839981144\n"
     ]
    },
    {
     "data": {
      "image/png": "[encoded data removed]",
      "text/plain": [
       "<matplotlib.figure.Figure at 0x1f0e327af60>"
      ]
     },
     "metadata": {},
     "output_type": "display_data"
    }
   ],
   "source": [
    "''' 使用SGDRegressor随机梯度下降算法优化线性回归权重参数 '''\n",
    "\n",
    "%matplotlib inline\n",
    "import numpy as np\n",
    "import matplotlib.pyplot as plt\n",
    "from sklearn.linear_model import SGDRegressor\n",
    "\n",
    "xTrain = np.array([6,8,10,14,18])[:, np.newaxis]\n",
    "yTrain = np.array([7,9,13,17.5,18])\n",
    "\n",
    "regressor = SGDRegressor(loss='squared_loss', max_iter=2000) \n",
    "regressor.fit(xTrain, yTrain)\n",
    "# 每次运行，得到的结果并不相同\n",
    "theta0 = regressor.intercept_[0]\n",
    "theta1 = regressor.coef_[0]\n",
    "print(\"SGD theta1=\", theta1)\n",
    "print(\"SGD theta0=\", theta0)\n",
    "\n",
    "def initPlot():\n",
    "    plt.figure()\n",
    "    plt.title('Pizza Price vs Diameter')\n",
    "    plt.xlabel('Diameter')\n",
    "    plt.ylabel('Price')\n",
    "    plt.axis([0, 25, 0, 25])       \n",
    "    plt.grid(True)\n",
    "    return plt\n",
    "\n",
    "plt = initPlot()\n",
    "plt.plot(xTrain, yTrain, 'k.')\n",
    "plt.plot(xTrain, theta0 + theta1 * xTrain, 'g-')               \n",
    "plt.show()"
   ]
  }
 ],
 "metadata": {
  "kernelspec": {
   "display_name": "Python 3",
   "language": "python",
   "name": "python3"
  },
  "language_info": {
   "codemirror_mode": {
    "name": "ipython",
    "version": 3
   },
   "file_extension": ".py",
   "mimetype": "text/x-python",
   "name": "python",
   "nbconvert_exporter": "python",
   "pygments_lexer": "ipython3",
   "version": "3.6.8"
  }
 },
 "nbformat": 4,
 "nbformat_minor": 2
}
