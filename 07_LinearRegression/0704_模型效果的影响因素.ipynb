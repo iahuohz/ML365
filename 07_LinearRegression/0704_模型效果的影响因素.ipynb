{
 "cells": [
  {
   "cell_type": "markdown",
   "metadata": {},
   "source": [
    "## **演示0704：模型效果的影响因素**"
   ]
  },
  {
   "cell_type": "markdown",
   "metadata": {},
   "source": [
    "### **案例1：Feature Scaling问题**\n",
    ">  \n",
    "在多变量情况下，各个变量的值域可能有很大区别。例如，$x1$的值域可能在(1,10)之间，而$x2$的值域可能(1,10000)之间。值域差异过大，很容易造成在计算过程中溢出或无法收敛。而通过对数据进行**归一化**(Normalization)处理，可以较好的解决这个问题  \n",
    "* 查看【house_price.csv】文件中的数据\n",
    " ![](../images/070401.png)  \n",
    " * Area：房屋面积；Rooms：房间数；Price：房屋出售价格。其中Area和Rooms是自变量；Price是因变量\n",
    " * Area的值一般在\"数千\"这个级别上，而Rooms则是个位数，值域差异明显\n",
    "* 归一化方法：\n",
    " * 有多种种归一化方法，一般可采用下列办法： $x=\\dfrac{x - \\bar x}{std(x)}$\n",
    " * 其中，$\\bar x$该列数据的平均值，$std(x)$是该列数据的标准差"
   ]
  },
  {
   "cell_type": "markdown",
   "metadata": {},
   "source": [
    "> **方法1：使用sklearn.linear_model.LinearRegression处理**  \n",
    "无需对自变量进行归一化处理，也能得到良好的结果。针对训练数据的R方约为0.73"
   ]
  },
  {
   "cell_type": "code",
   "execution_count": 1,
   "metadata": {},
   "outputs": [
    {
     "name": "stdout",
     "output_type": "stream",
     "text": [
      "LinearRegression计算R方： 0.7329450180289143\n"
     ]
    }
   ],
   "source": [
    "''' 使用LinearRegression，没有进行归一化预处理 '''\n",
    "\n",
    "import numpy as np\n",
    "from sklearn.linear_model import LinearRegression\n",
    "\n",
    "trainData = np.loadtxt(open('house_price.csv', 'r'), delimiter=\",\",skiprows=1)\n",
    "xTrain = np.array(trainData[:, 0:2])\n",
    "yTrain = np.array(trainData[:, 2])\n",
    "\n",
    "xTrain = np.c_[xTrain, np.ones(len(xTrain))]\n",
    "\n",
    "model = LinearRegression()\n",
    "model.fit(xTrain, yTrain)\n",
    "print(\"LinearRegression计算R方：\", model.score(xTrain, yTrain))"
   ]
  },
  {
   "cell_type": "code",
   "execution_count": 2,
   "metadata": {},
   "outputs": [
    {
     "name": "stdout",
     "output_type": "stream",
     "text": [
      "LinearRegression计算R方： 0.7329450180289141\n"
     ]
    }
   ],
   "source": [
    "''' 使用LinearRegression，进行归一化预处理 '''\n",
    "\n",
    "import numpy as np\n",
    "from sklearn.linear_model import LinearRegression\n",
    "\n",
    "def normalizeData(X):\n",
    "    # 每列(每个Feature)分别求出均值和标准差，然后与X的每个元素分别进行操作\n",
    "    return (X - X.mean(axis=0))/X.std(axis=0)         \n",
    "\n",
    "trainData = np.loadtxt(open('house_price.csv', 'r'), delimiter=\",\",skiprows=1)\n",
    "xTrain = np.array(trainData[:, 0:2])\n",
    "yTrain = np.array(trainData[:, 2])\n",
    "xTrain = normalizeData(xTrain)  \n",
    "\n",
    "xTrain = np.c_[xTrain, np.ones(len(xTrain))]        # 归一化完成后再添加intercept item列\n",
    "\n",
    "model = LinearRegression()\n",
    "model.fit(xTrain, yTrain)\n",
    "print(\"LinearRegression计算R方：\", model.score(xTrain, yTrain))"
   ]
  },
  {
   "cell_type": "markdown",
   "metadata": {},
   "source": [
    "> **方法2：使用自定义的批量梯度下降法**\n",
    " * 在未对自变量归一化处理的情况下，运算出现异常，无法收敛\n",
    " * 归一化处理后，能够得到与LinearRegression类似的结果"
   ]
  },
  {
   "cell_type": "code",
   "execution_count": 3,
   "metadata": {},
   "outputs": [
    {
     "name": "stderr",
     "output_type": "stream",
     "text": [
      "/mnt/c/Users/iahuo/Desktop/Apps/ML365/07_LinearRegression/bgd_resolver.py:17: RuntimeWarning: invalid value encountered in double_scalars\n",
      "  if abs(target_value - next_target_value) < tolerance:\n",
      "/mnt/c/Users/iahuo/Desktop/Apps/ML365/07_LinearRegression/bgd_resolver.py:15: RuntimeWarning: invalid value encountered in subtract\n",
      "  next_W = W - gradient * learning_rate\n"
     ]
    },
    {
     "name": "stdout",
     "output_type": "stream",
     "text": [
      "50000次循环后，计算仍未收敛\n",
      "梯度下降法计算R方： nan\n"
     ]
    }
   ],
   "source": [
    "''' 使用自定义BGD，未作归一化处理，可能无法收敛 '''\n",
    "\n",
    "import numpy as np\n",
    "import bgd_resolver  \n",
    "\n",
    "def costFn(theta, X, y):\n",
    "    temp = X.dot(theta) - y\n",
    "    return (temp.T.dot(temp)) / (2 * len(X))\n",
    "\n",
    "def gradientFn(theta, X, y): \n",
    "    return (X.T).dot(X.dot(theta) - y) / len(X)\n",
    "\n",
    "trainData = np.loadtxt(open('house_price.csv', 'r'), delimiter=\",\",skiprows=1)\n",
    "xTrain = np.array(trainData[:, 0:2])\n",
    "yTrain = np.array(trainData[:, 2])\n",
    "\n",
    "xTrain = np.c_[xTrain, np.ones(len(xTrain))]\n",
    "\n",
    "init_theta = np.random.randn(xTrain.shape[1])\n",
    "# 如果数据不进行Normalize，则下面的梯度算法有可能不收敛\n",
    "theta = bgd_resolver.batch_gradient_descent(costFn, gradientFn, init_theta, xTrain, yTrain)\n",
    "rsquare = bgd_resolver.batch_gradient_descent_rsquare(theta, xTrain, yTrain)\n",
    "print(\"梯度下降法计算R方：\", rsquare)"
   ]
  },
  {
   "cell_type": "code",
   "execution_count": 4,
   "metadata": {},
   "outputs": [
    {
     "name": "stdout",
     "output_type": "stream",
     "text": [
      "循环 31206 次后收敛\n",
      "梯度下降法计算R方： 0.7329450180286867\n"
     ]
    }
   ],
   "source": [
    "''' 使用自定义BGD，作归一化处理 '''\n",
    "\n",
    "import numpy as np\n",
    "import bgd_resolver\n",
    "\n",
    "def normalizeData(X):\n",
    "    # 每列(每个Feature)分别求出均值和标准差，然后与X的每个元素分别进行操作\n",
    "    return (X - X.mean(axis=0))/X.std(axis=0)         \n",
    "\n",
    "def costFn(theta, X, y):\n",
    "    temp = X.dot(theta) - y\n",
    "    return (temp.T.dot(temp)) / (2 * len(X))\n",
    "\n",
    "def gradientFn(theta, X, y): \n",
    "    return (X.T).dot(X.dot(theta) - y) / len(X)\n",
    "\n",
    "trainData = np.loadtxt(open('house_price.csv', 'r'), delimiter=\",\",skiprows=1)\n",
    "xTrain = np.array(trainData[:, 0:2])\n",
    "yTrain = np.array(trainData[:, 2])\n",
    "xTrain = normalizeData(xTrain)\n",
    "\n",
    "xTrain = np.c_[xTrain, np.ones(len(xTrain))]\n",
    "\n",
    "init_theta = np.random.randn(xTrain.shape[1])\n",
    "# 如果数据不进行Normalize，则下面的梯度算法有可能不收敛\n",
    "theta = bgd_resolver.batch_gradient_descent(costFn, gradientFn, init_theta, xTrain, yTrain)\n",
    "rsquare = bgd_resolver.batch_gradient_descent_rsquare(theta, xTrain, yTrain)\n",
    "print(\"梯度下降法计算R方：\", rsquare)"
   ]
  },
  {
   "cell_type": "markdown",
   "metadata": {},
   "source": [
    "### **案例2：学习速率(learning rate)对计算的影响**\n",
    ">  \n",
    "* 一般情况下，学习速率越小，其收敛的可能性越大（不容易因为步长过大，而“错过”极值点），但是需要更多次循环才能到达极值点。\n",
    "* 学习速率越大，能够朝着极值点更快前进，但有可能因错过极值点而造成无法收敛\n",
    "* 在实际的梯度下降算法中，会先选择一个较大的learning rate，随着不断逼近极值点，逐渐减小learning rate。  \n",
    ">  \n",
    "下面的例子演示了，如果设置过大的学习速率，会导致计算不收敛"
   ]
  },
  {
   "cell_type": "code",
   "execution_count": 5,
   "metadata": {},
   "outputs": [
    {
     "name": "stderr",
     "output_type": "stream",
     "text": [
      "/mnt/c/Users/iahuo/Desktop/Apps/ML365/07_LinearRegression/bgd_resolver.py:17: RuntimeWarning: invalid value encountered in double_scalars\n",
      "  if abs(target_value - next_target_value) < tolerance:\n",
      "/mnt/c/Users/iahuo/Desktop/Apps/ML365/07_LinearRegression/bgd_resolver.py:15: RuntimeWarning: invalid value encountered in subtract\n",
      "  next_W = W - gradient * learning_rate\n"
     ]
    },
    {
     "name": "stdout",
     "output_type": "stream",
     "text": [
      "50000次循环后，计算仍未收敛\n",
      "[nan nan]\n"
     ]
    }
   ],
   "source": [
    "''' 测试learning rate过大的问题 '''\n",
    "\n",
    "import numpy as np\n",
    "import matplotlib.pyplot as plt\n",
    "import bgd_resolver\n",
    "\n",
    "def costFn(theta, X, y):                                # 定义线性回归的成本函数\n",
    "    temp = X.dot(theta) - y\n",
    "    return temp.dot(temp) / (2*len(X))\n",
    "\n",
    "def gradientFn(theta, X, y):                            # 根据成本函数，分别对x0和x1求导数(梯度)\n",
    "    return (X.T).dot(X.dot(theta) - y) / len(X)  \n",
    "\n",
    "xTrain = np.array([6, 8, 10, 14, 18])[:, np.newaxis]\n",
    "yTrain = np.array([7, 9, 13, 17.5, 18])\n",
    "xTrain_ext = np.c_[xTrain, np.ones(len(xTrain))]\n",
    "\n",
    "np.random.seed(0)\n",
    "theta_init = np.random.randn(xTrain_ext.shape[1])\n",
    "# 直接设置learning_rate为0.1，速率过大，导致计算不收敛\n",
    "theta = bgd_resolver.batch_gradient_descent(costFn, gradientFn, theta_init, xTrain_ext, yTrain, learning_rate=0.1)  \n",
    "print(theta)"
   ]
  },
  {
   "cell_type": "markdown",
   "metadata": {},
   "source": [
    "### **案例3：高阶拟合**\n",
    "已知训练样本数据点：(6,7),(8,9),(10,13),(14,17.5),(18,18)  \n",
    "以及测试样本数据点：（8,11),(9,8.5),(11,15),(16,18),(12,11)  \n",
    "分别使用一阶曲线(直线)、二阶曲线和三阶曲线进行拟合，并检查拟合效果  \n",
    "\n",
    "在拟合数据点时，一般来说，对于一个自变量的，拟合出来是一条直线；对于两个自变量的，拟合出来时一个直平面。这种拟合结果是严格意义上的“线性”回归。但是有时候，采用“曲线”或“曲面”的方式来拟合，能够对训练数据产生更逼近的效果。这就是“高阶拟合”。  \n",
    "例如，对于一个自变量的情形，可以采用3阶拟合：$ h_\\theta(x)= \\theta_0 x^0+ \\theta_1 x^1+ \\theta_2 x^2+ \\theta_3 x^3 $  \n",
    "对于两个自变量的情形，可以采用更复杂的高阶拟合：$ h_\\theta(x)=\\theta_0 x_1^0 x_2^0+ \\theta_1 x_1^1 + \\theta_2 x_2^1 + \\theta_3 x_1^2+ \\theta_4 x_2^2+ \\theta_5 x_1^1 x_2^1 $  \n",
    "* 以\"线性回归\"的方式来拟合高阶曲线\n",
    " * 以单变量高阶拟合为例。训练数据中，仅有一列自变量数据$x_1$\n",
    " * 通过Intercept Term，扩展一列全是1的自变量数据$x_0$\n",
    " * 将$x_1$的每个元素分别平方，得到第三列自变量数据$x_2$\n",
    " * 将$x_1$的每个元素分别立方，得到第四列自变量数据$x_3$\n",
    " * 将$(x_0,x_1,x_2,x_3)$看成具有四个自变量的多线性回归情形，通过LinearRegression对象进行多变量线性回归计算\n",
    " * 生成$x_2,x_3$等高阶自变量数据，可借助PolynomialFeatures对象的fit_transform方法来实现。\n",
    " * 高阶曲线对于训练数据的拟合程度较好，但对于测试数据，却不一定有较好的R方"
   ]
  },
  {
   "cell_type": "markdown",
   "metadata": {},
   "source": [
    ">**步骤1：查看要拟合的数据**"
   ]
  },
  {
   "cell_type": "code",
   "execution_count": 6,
   "metadata": {},
   "outputs": [
    {
     "data": {
      "text/plain": [
       "[<matplotlib.lines.Line2D at 0x7f4f83e7d978>]"
      ]
     },
     "execution_count": 6,
     "metadata": {},
     "output_type": "execute_result"
    },
    {
     "data": {
      "image/png": "[encoded data removed]",
      "text/plain": [
       "<Figure size 432x288 with 1 Axes>"
      ]
     },
     "metadata": {
      "needs_background": "light"
     },
     "output_type": "display_data"
    }
   ],
   "source": [
    "%matplotlib inline\n",
    "\n",
    "import numpy as np\n",
    "import matplotlib.pyplot as plt\n",
    "\n",
    "xTrain = np.array([6, 8, 10, 14, 18])[:, np.newaxis]       # 训练数据(直径)\n",
    "yTrain = np.array([7, 9, 13, 17.5, 18])                    # 训练数据(价格)\n",
    "xTest = np.array([8, 9, 11, 16, 12])[:, np.newaxis]        # 测试数据(直径)\n",
    "yTest = np.array([11, 8.5, 15, 18, 11])                    # 测试数据(价格)\n",
    "plotData = np.array(np.linspace(0, 26, 100))[:,np.newaxis]          # 作图用的数据点\n",
    "\n",
    "def initPlot():\n",
    "    plt.figure()\n",
    "    plt.title('Pizza Price vs Diameter')\n",
    "    plt.xlabel('Diameter')\n",
    "    plt.ylabel('Price')\n",
    "    plt.axis([0, 25, 0, 25])\n",
    "    plt.grid(True)\n",
    "    return plt\n",
    "\n",
    "plt = initPlot()\n",
    "plt.plot(xTrain, yTrain, 'r.')          # 训练点数据(红色)\n",
    "plt.plot(xTest, yTest, 'b.')            # 测试点数据(蓝色)"
   ]
  },
  {
   "cell_type": "markdown",
   "metadata": {},
   "source": [
    ">**步骤2：一阶(线性)拟合实现**"
   ]
  },
  {
   "cell_type": "code",
   "execution_count": 7,
   "metadata": {},
   "outputs": [
    {
     "name": "stdout",
     "output_type": "stream",
     "text": [
      "线性拟合R方: 0.6620052929422553\n"
     ]
    },
    {
     "data": {
      "text/plain": [
       "[<matplotlib.lines.Line2D at 0x7f4f81e2d7f0>]"
      ]
     },
     "execution_count": 7,
     "metadata": {},
     "output_type": "execute_result"
    },
    {
     "data": {
      "image/png": "[encoded data removed]",
      "text/plain": [
       "<Figure size 432x288 with 1 Axes>"
      ]
     },
     "metadata": {
      "needs_background": "light"
     },
     "output_type": "display_data"
    }
   ],
   "source": [
    "from sklearn.linear_model import LinearRegression\n",
    "\n",
    "# 线性拟合\n",
    "linearModel = LinearRegression()             \n",
    "linearModel.fit(xTrain, yTrain)  \n",
    "linearModelTrainResult = linearModel.predict(plotData)\n",
    "\n",
    "# 计算R方\n",
    "linearModelRSquare = linearModel.score(xTest, yTest)\n",
    "\n",
    "print(\"线性拟合R方:\", linearModelRSquare)\n",
    "\n",
    "plt = initPlot()\n",
    "plt.plot(xTrain, yTrain, 'r.')          # 训练点数据(红色)\n",
    "plt.plot(xTest, yTest, 'b.')            # 测试点数据(蓝色)\n",
    "plt.plot(plotData, linearModelTrainResult, 'y-')           # 线性拟合线"
   ]
  },
  {
   "cell_type": "markdown",
   "metadata": {},
   "source": [
    "> **步骤3：二阶曲线拟合**\n",
    "* *PolynomialFeatures.fit_transform*提供了将1阶数据扩展到高阶数据的方法\n",
    "* 训练样本和测试样本都需要进行扩充"
   ]
  },
  {
   "cell_type": "code",
   "execution_count": 8,
   "metadata": {},
   "outputs": [
    {
     "name": "stdout",
     "output_type": "stream",
     "text": [
      "[[  1.   6.  36.]\n",
      " [  1.   8.  64.]\n",
      " [  1.  10. 100.]\n",
      " [  1.  14. 196.]\n",
      " [  1.  18. 324.]]\n",
      "二阶拟合R方: 0.4853914100941126\n"
     ]
    },
    {
     "data": {
      "image/png": "[encoded data removed]",
      "text/plain": [
       "<Figure size 432x288 with 1 Axes>"
      ]
     },
     "metadata": {
      "needs_background": "light"
     },
     "output_type": "display_data"
    }
   ],
   "source": [
    "from sklearn.preprocessing import PolynomialFeatures\n",
    "\n",
    "# 二阶曲线拟合  theta0 + theta1*x + theta2*x*x   x*x => z     theta0+theta1*x+theta2*z\n",
    "quadratic_featurizer = PolynomialFeatures(degree=2)\n",
    "xTrain_quadratic = quadratic_featurizer.fit_transform(xTrain)\n",
    "print(xTrain_quadratic)    # 查看扩展后的特征矩阵\n",
    "quadraticModel = LinearRegression()\n",
    "quadraticModel.fit(xTrain_quadratic, yTrain)\n",
    "\n",
    "# 计算R方(针对测试数据)\n",
    "xTest_quadratic = quadratic_featurizer.fit_transform(xTest)\n",
    "quadraticModelRSquare = quadraticModel.score(xTest_quadratic, yTest)\n",
    "print(\"二阶拟合R方:\", quadraticModelRSquare)\n",
    "\n",
    "# 绘图点也同样需要进行高阶扩充以便使用曲线进行拟合\n",
    "plotData_quadratic = quadratic_featurizer.fit_transform(plotData)\n",
    "quadraticModelTrainResult = quadraticModel.predict(plotData_quadratic)\n",
    "\n",
    "plt = initPlot()\n",
    "plt.plot(xTrain, yTrain, 'r.')          # 训练点数据(红色)\n",
    "plt.plot(xTest, yTest, 'b.')            # 测试点数据(蓝色)\n",
    "plt.plot(plotData, quadraticModelTrainResult, 'g-')        # 二阶拟合线\n",
    "plt.show()"
   ]
  },
  {
   "cell_type": "markdown",
   "metadata": {},
   "source": [
    "> **步骤4：二阶曲线拟合**"
   ]
  },
  {
   "cell_type": "code",
   "execution_count": 9,
   "metadata": {},
   "outputs": [
    {
     "name": "stdout",
     "output_type": "stream",
     "text": [
      "三阶拟合R方: 0.47996105393866273\n"
     ]
    },
    {
     "data": {
      "image/png": "[encoded data removed]",
      "text/plain": [
       "<Figure size 432x288 with 1 Axes>"
      ]
     },
     "metadata": {
      "needs_background": "light"
     },
     "output_type": "display_data"
    }
   ],
   "source": [
    "# 三阶曲线拟合\n",
    "cubic_featurizer = PolynomialFeatures(degree=3)\n",
    "xTrain_cubic = cubic_featurizer.fit_transform(xTrain)\n",
    "cubicModel = LinearRegression()\n",
    "cubicModel.fit(xTrain_cubic, yTrain)\n",
    "plotData_cubic = cubic_featurizer.fit_transform(plotData)\n",
    "cubicModelTrainResult = cubicModel.predict(plotData_cubic)\n",
    "\n",
    "\n",
    "# 计算R方(针对测试数据)\n",
    "xTest_cubic = cubic_featurizer.fit_transform(xTest)\n",
    "cubicModelRSquare =  cubicModel.score(xTest_cubic, yTest)\n",
    "print(\"三阶拟合R方:\", cubicModelRSquare)\n",
    "\n",
    "plt = initPlot()\n",
    "plt.plot(xTrain, yTrain, 'r.')          # 训练点数据(红色)\n",
    "plt.plot(xTest, yTest, 'b.')            # 测试点数据(蓝色)\n",
    "plt.plot(plotData, cubicModelTrainResult, 'p-')            # 三阶拟合线\n",
    "plt.show()"
   ]
  },
  {
   "cell_type": "markdown",
   "metadata": {},
   "source": [
    "### **bias和variance**\n",
    "观察下列拟合（单变量）:  \n",
    "![](../images/070402.png)\n",
    "* 左边图采用直线拟合，很显然有许多训练数据点不能很好的被拟合，将导致训练数据的残差很大。这种情况称为**underfit（欠拟合）**，或者：**High bias**\n",
    "* 右边图采用4次曲线拟合，完美的通过了训练数据的每个点。但是，如果针对另一批测试数据做预测，这条高阶曲线将产生非常大的误差。这种情况称为**overfit（过拟合）**,或者：**High variance**\n",
    "* 中间图采用2次曲线拟合，虽然不能完美拟合每个数据点，但是对测试数据也能产生较好的预测效果。这时比较合适的情形\n",
    "* 因此，在计算模型参数时，既要防止High bias，也要防止High variance"
   ]
  }
 ],
 "metadata": {
  "kernelspec": {
   "display_name": "Python 3",
   "language": "python",
   "name": "python3"
  },
  "language_info": {
   "codemirror_mode": {
    "name": "ipython",
    "version": 3
   },
   "file_extension": ".py",
   "mimetype": "text/x-python",
   "name": "python",
   "nbconvert_exporter": "python",
   "pygments_lexer": "ipython3",
   "version": "3.6.8"
  }
 },
 "nbformat": 4,
 "nbformat_minor": 2
}
