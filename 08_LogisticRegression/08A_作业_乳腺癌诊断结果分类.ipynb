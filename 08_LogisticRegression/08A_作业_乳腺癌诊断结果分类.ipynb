{
 "cells": [
  {
   "cell_type": "markdown",
   "metadata": {},
   "source": [
    "## **作业08A：使用LogisticRegression对乳腺癌诊断数据分类**\n",
    "数据文件【breast_cancer.csv】中存放了数百条检测数据及其对应的诊断结果。  \n",
    "* 前9列存放特征数据，每个特征都已经转换成0~10之间的整数值。包括：\n",
    "    * 肿块厚度\n",
    "    * 细胞大小均匀性\n",
    "    * 细胞形状均匀性\n",
    "    * 边缘粘性\n",
    "    * 单一上皮细胞大小\n",
    "    * 裸核\n",
    "    * Bland染色质\n",
    "    * 正常细胞核\n",
    "    * 有丝分裂  \n",
    "* 第10列存放诊断结果，0表示良性，1表示恶性  \n",
    "\n",
    "使用sklearn建立逻辑回归模型"
   ]
  },
  {
   "cell_type": "markdown",
   "metadata": {},
   "source": [
    "### **任务1：读取并查看部分数据**"
   ]
  },
  {
   "cell_type": "code",
   "execution_count": 1,
   "metadata": {},
   "outputs": [
    {
     "name": "stdout",
     "output_type": "stream",
     "text": [
      "(683, 10)\n",
      "   肿块厚度  细胞大小均匀性  细胞形状均匀性  边缘粘性  单一上皮细胞大小  裸核  Bland染色质  正常细胞核  有丝分裂  是否恶性\n",
      "0     5        1        1     1         2   1         3      1     1     0\n",
      "1     5        4        4     5         7  10         3      2     1     0\n",
      "2     3        1        1     1         2   2         3      1     1     0\n",
      "3     6        8        8     1         3   4         3      7     1     0\n",
      "4     4        1        1     3         2   1         3      1     1     0\n"
     ]
    }
   ],
   "source": [
    "import pandas as pd\n",
    "import numpy as np\n",
    " \n",
    "column_names = ['肿块厚度','细胞大小均匀性','细胞形状均匀性','边缘粘性','单一上皮细胞大小','裸核','Bland染色质','正常细胞核','有丝分裂','是否恶性']\n",
    "data = pd.read_csv('breast_cancer.csv', names=column_names)\n",
    " \n",
    "data = data.replace(to_replace='?',value=np.nan)    # 非法字符的替代(原始数据中有问号字符)\n",
    "data = data.dropna(how='any')        #去掉空值，any：出现空值行则删除\n",
    "print(data.shape)\n",
    "print(data.head())"
   ]
  },
  {
   "cell_type": "markdown",
   "metadata": {},
   "source": [
    "### **任务2：分割成训练数据和测试数据集**"
   ]
  },
  {
   "cell_type": "code",
   "execution_count": 3,
   "metadata": {},
   "outputs": [
    {
     "name": "stdout",
     "output_type": "stream",
     "text": [
      "(546, 9)\n"
     ]
    }
   ],
   "source": [
    "from sklearn.model_selection import train_test_split\n",
    "\n",
    "X_train,X_test,y_train,y_test = train_test_split(\n",
    "    data[column_names[:9]], data[column_names[9]],\n",
    "    test_size=0.2,random_state=5)\n",
    "print(X_train.shape)"
   ]
  },
  {
   "cell_type": "markdown",
   "metadata": {},
   "source": [
    "### **任务3：特征归一化处理**\n",
    "本例中由于所有特征的取值范围都在0~10之间，因此差异不大，即使不做归一化也没有影响"
   ]
  },
  {
   "cell_type": "code",
   "execution_count": 4,
   "metadata": {},
   "outputs": [
    {
     "name": "stderr",
     "output_type": "stream",
     "text": [
      "/usr/local/lib/python3.6/dist-packages/sklearn/preprocessing/data.py:645: DataConversionWarning: Data with input dtype int64, object were all converted to float64 by StandardScaler.\n",
      "  return self.partial_fit(X, y)\n",
      "/usr/local/lib/python3.6/dist-packages/sklearn/base.py:464: DataConversionWarning: Data with input dtype int64, object were all converted to float64 by StandardScaler.\n",
      "  return self.fit(X, **fit_params).transform(X)\n",
      "/usr/local/lib/python3.6/dist-packages/ipykernel_launcher.py:5: DataConversionWarning: Data with input dtype int64, object were all converted to float64 by StandardScaler.\n",
      "  \"\"\"\n"
     ]
    }
   ],
   "source": [
    "from sklearn.preprocessing import StandardScaler\n",
    "\n",
    "nomalizer = StandardScaler()\n",
    "X_train = nomalizer.fit_transform(X_train)\n",
    "X_test = nomalizer.transform(X_test)"
   ]
  },
  {
   "cell_type": "markdown",
   "metadata": {},
   "source": [
    "### **任务4：训练模型，并计算测试数据的预测准确率**"
   ]
  },
  {
   "cell_type": "code",
   "execution_count": null,
   "metadata": {},
   "outputs": [],
   "source": [
    "from sklearn.linear_model import LogisticRegression\n",
    "\n",
    "model = None\n",
    "accuracy = None\n",
    "\n",
    "### TODO：创建LigisticRegression对象，指定正则化惩罚系数为lambda=1。将对象存放在model变量中\n",
    "\n",
    "### TODO:使用训练数据训练模型\n",
    "\n",
    "### TODO：使用测试数据计算正确率，存放在accuracy变量中\n",
    "\n",
    "# 打印测试数据正确率\n",
    "print(accuracy)"
   ]
  },
  {
   "cell_type": "markdown",
   "metadata": {},
   "source": [
    "### **任务5：针对测试数据，计算模型的F1 Score**"
   ]
  },
  {
   "cell_type": "code",
   "execution_count": null,
   "metadata": {},
   "outputs": [],
   "source": [
    "f1_score = None\n",
    "\n",
    "### TODO：编写代码计算F1_Score，并保存在f1_score中\n",
    "\n",
    "# 打印F1 Score\n",
    "print(f1_score)"
   ]
  }
 ],
 "metadata": {
  "kernelspec": {
   "display_name": "Python 3",
   "language": "python",
   "name": "python3"
  },
  "language_info": {
   "codemirror_mode": {
    "name": "ipython",
    "version": 3
   },
   "file_extension": ".py",
   "mimetype": "text/x-python",
   "name": "python",
   "nbconvert_exporter": "python",
   "pygments_lexer": "ipython3",
   "version": "3.6.8"
  }
 },
 "nbformat": 4,
 "nbformat_minor": 2
}
